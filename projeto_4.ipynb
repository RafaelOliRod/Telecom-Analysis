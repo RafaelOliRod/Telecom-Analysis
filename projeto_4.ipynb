{
 "cells": [
  {
   "cell_type": "markdown",
   "metadata": {},
   "source": [
    "<div>\n",
    "Olá, Rafael!\n",
    "\n",
    "Meu nome é Luiz. Fico feliz em revisar seu projeto. Ao longo do texto farei algumas observações sobre melhorias no código e também farei comentários sobre suas percepções sobre o assunto. Estarei aberto a feedbacks e discussões sobre o tema.\n",
    "\n",
    "**Peço que mantenha e não altere os comentários que eu fizer por aqui para que possamos nos localizar posteriormente, ok?**\n",
    "\n",
    "Mais uma coisa, vamos utilizar um código de cores para você entender o meu feedback no seu notebook. Funciona assim:\n",
    "\n",
    "<div class=\"alert alert-block alert-success\">\n",
    "<b> Comentário do revisor: </b> <a class=\"tocSkip\"></a>\n",
    "\n",
    "Sucesso. Tudo foi feito corretamente.\n",
    "</div>\n",
    "\n",
    "<div class=\"alert alert-block alert-warning\">\n",
    "<b>Comentário do revisor: </b> <a class=\"tocSkip\"></a>\n",
    "\n",
    "Alerta não crítico, mas que pode ser corrigido para melhoria geral no seu código/análise.\n",
    "</div>\n",
    "\n",
    "<div class=\"alert alert-block alert-danger\">\n",
    "\n",
    "<b>Comentário do revisor: </b> <a class=\"tocSkip\"></a>\n",
    "    \n",
    "Erro que precisa ser arrumado, caso contrário seu projeto **não** será aceito.\n",
    "</div>\n",
    "\n",
    "Você pode interagir comigo através dessa célula:\n",
    "<div class=\"alert alert-block alert-info\">\n",
    "<b>Resposta do Aluno.</b> <a class=\"tocSkip\"></a>\n",
    "</div>"
   ]
  },
  {
   "cell_type": "markdown",
   "metadata": {
    "id": "eAkbw7Ueuj8X"
   },
   "source": [
    "# Qual é o melhor plano?\n",
    "\n",
    "Você trabalha como analista para a empresa de telecomunicações Megaline. A empresa oferece aos clientes dois planos pré-pagos: Surf e Ultimate. O departamento comercial quer saber qual dos planos gera mais receita para ajustar o orçamento de publicidade.\n",
    "\n",
    "Você vai realizar uma análise preliminar dos planos com base em uma pequena seleção de clientes. Você terá dados de 500 clientes da Megaline: que clientes são, de onde eles são, qual plano usam e o número de chamadas e mensagens realizadas em 2018. Seu trabalho é analisar o comportamento dos clientes e determinar qual plano pré-pago gera mais receita."
   ]
  },
  {
   "cell_type": "markdown",
   "metadata": {
    "id": "Z_iOKMX_uj8a"
   },
   "source": [
    "[Fornecemos alguns comentários para guiar sua linha de raciocínio enquanto você conclui esse projeto. Entretanto, certifique-se de remover todos os comentários entre colchetes antes de enviar o projeto.]\n",
    "\n",
    "[Antes de mergulhar na análise dos seus dados, explique em suas palavras o propósito do projeto e as ações que planeja realizar.]\n",
    "\n",
    "[Tenha em mente que estudar, modificar e analisar dados é um processo iterativo. É normal retornar a etapas anteriores e corrigir/expandir algo para permitir as próximas etapas.]"
   ]
  },
  {
   "cell_type": "markdown",
   "metadata": {
    "id": "lnomf-3Xuj8b"
   },
   "source": [
    "## Inicialização"
   ]
  },
  {
   "cell_type": "code",
   "execution_count": 1,
   "metadata": {
    "id": "JdJusn5ouj8c"
   },
   "outputs": [],
   "source": [
    "# Carregando todas as bibliotecas\n",
    "import pandas as pd\n",
    "import numpy as np\n",
    "import math as mt\n",
    "from math import factorial\n",
    "from scipy import stats as st\n",
    "from scipy.stats import ttest_ind\n",
    "import matplotlib.pyplot as plt"
   ]
  },
  {
   "cell_type": "markdown",
   "metadata": {
    "id": "rzqsCrgquj8d"
   },
   "source": [
    "## Carregue os dados"
   ]
  },
  {
   "cell_type": "code",
   "execution_count": 8,
   "metadata": {
    "id": "HmzmQRXIuj8e"
   },
   "outputs": [],
   "source": [
    "# Carregue os arquivos de dados em diferentes DataFrames\n",
    "df_users = pd.read_csv('datasets/megaline_users.csv')\n",
    "df_calls = pd.read_csv('datasets/megaline_calls.csv')\n",
    "df_messages = pd.read_csv('datasets/megaline_messages.csv') \n",
    "df_internet = pd.read_csv('datasets/megaline_internet.csv')\n",
    "df_plans = pd.read_csv('datasets/megaline_plans.csv')"
   ]
  },
  {
   "cell_type": "markdown",
   "metadata": {},
   "source": [
    "<div class=\"alert alert-block alert-success\">\n",
    "<b> Comentário do revisor: </b> <a class=\"tocSkip\"></a>\n",
    "    \n",
    "- O conjunto de dados foi carregado corretamente\n",
    "- O import das bibliotecas foi feito de forma correta e em uma célula separada.\n",
    "</div>\n"
   ]
  },
  {
   "cell_type": "markdown",
   "metadata": {
    "id": "XQh-EeiIuj8e"
   },
   "source": [
    "## Prepare os dados"
   ]
  },
  {
   "cell_type": "markdown",
   "metadata": {
    "id": "RmibJmmzuj8e"
   },
   "source": [
    "[Os dados deste projeto estão divididos em várias tabelas. Explore cada uma para obter uma compreensão inicial dos dados. Faça correções em cada tabela, se necessário.]"
   ]
  },
  {
   "cell_type": "markdown",
   "metadata": {
    "id": "TlZUw_Cyuj8f"
   },
   "source": [
    "## Planos"
   ]
  },
  {
   "cell_type": "code",
   "execution_count": 3,
   "metadata": {
    "id": "x9qB5mAOuj8f"
   },
   "outputs": [
    {
     "name": "stdout",
     "output_type": "stream",
     "text": [
      "<class 'pandas.core.frame.DataFrame'>\n",
      "RangeIndex: 2 entries, 0 to 1\n",
      "Data columns (total 8 columns):\n",
      " #   Column                 Non-Null Count  Dtype  \n",
      "---  ------                 --------------  -----  \n",
      " 0   messages_included      2 non-null      int64  \n",
      " 1   mb_per_month_included  2 non-null      int64  \n",
      " 2   minutes_included       2 non-null      int64  \n",
      " 3   usd_monthly_pay        2 non-null      int64  \n",
      " 4   usd_per_gb             2 non-null      int64  \n",
      " 5   usd_per_message        2 non-null      float64\n",
      " 6   usd_per_minute         2 non-null      float64\n",
      " 7   plan_name              2 non-null      object \n",
      "dtypes: float64(2), int64(5), object(1)\n",
      "memory usage: 260.0+ bytes\n"
     ]
    }
   ],
   "source": [
    "# Imprima as informações gerais/resumidas sobre o DataFrame dos planos\n",
    "df_plans.info()"
   ]
  },
  {
   "cell_type": "code",
   "execution_count": 4,
   "metadata": {
    "id": "9MRo7tyVuj8f"
   },
   "outputs": [
    {
     "data": {
      "text/html": [
       "<div>\n",
       "<style scoped>\n",
       "    .dataframe tbody tr th:only-of-type {\n",
       "        vertical-align: middle;\n",
       "    }\n",
       "\n",
       "    .dataframe tbody tr th {\n",
       "        vertical-align: top;\n",
       "    }\n",
       "\n",
       "    .dataframe thead th {\n",
       "        text-align: right;\n",
       "    }\n",
       "</style>\n",
       "<table border=\"1\" class=\"dataframe\">\n",
       "  <thead>\n",
       "    <tr style=\"text-align: right;\">\n",
       "      <th></th>\n",
       "      <th>messages_included</th>\n",
       "      <th>mb_per_month_included</th>\n",
       "      <th>minutes_included</th>\n",
       "      <th>usd_monthly_pay</th>\n",
       "      <th>usd_per_gb</th>\n",
       "      <th>usd_per_message</th>\n",
       "      <th>usd_per_minute</th>\n",
       "      <th>plan_name</th>\n",
       "    </tr>\n",
       "  </thead>\n",
       "  <tbody>\n",
       "    <tr>\n",
       "      <th>0</th>\n",
       "      <td>50</td>\n",
       "      <td>15360</td>\n",
       "      <td>500</td>\n",
       "      <td>20</td>\n",
       "      <td>10</td>\n",
       "      <td>0.03</td>\n",
       "      <td>0.03</td>\n",
       "      <td>surf</td>\n",
       "    </tr>\n",
       "    <tr>\n",
       "      <th>1</th>\n",
       "      <td>1000</td>\n",
       "      <td>30720</td>\n",
       "      <td>3000</td>\n",
       "      <td>70</td>\n",
       "      <td>7</td>\n",
       "      <td>0.01</td>\n",
       "      <td>0.01</td>\n",
       "      <td>ultimate</td>\n",
       "    </tr>\n",
       "  </tbody>\n",
       "</table>\n",
       "</div>"
      ],
      "text/plain": [
       "   messages_included  mb_per_month_included  minutes_included  \\\n",
       "0                 50                  15360               500   \n",
       "1               1000                  30720              3000   \n",
       "\n",
       "   usd_monthly_pay  usd_per_gb  usd_per_message  usd_per_minute plan_name  \n",
       "0               20          10             0.03            0.03      surf  \n",
       "1               70           7             0.01            0.01  ultimate  "
      ]
     },
     "execution_count": 4,
     "metadata": {},
     "output_type": "execute_result"
    }
   ],
   "source": [
    "# Imprima uma amostra de dados dos planos\n",
    "df_plans.head()"
   ]
  },
  {
   "cell_type": "markdown",
   "metadata": {
    "id": "P8hzr-lquj8f"
   },
   "source": [
    "O dataframe `megaline_plans.csv` possui apenas 2 linhas com informações sobre os planos. Não há alteração a ser feita."
   ]
  },
  {
   "cell_type": "markdown",
   "metadata": {
    "id": "KXtaxmKsuj8f"
   },
   "source": [
    "## Corrija os dados"
   ]
  },
  {
   "cell_type": "markdown",
   "metadata": {
    "id": "9BWuM80Buj8f"
   },
   "source": [
    "Os dados da tabela são apenas dois e todos classificados corretamente com os tipos em `Dtype`. Não há dado nulo, faltante ou duplicado."
   ]
  },
  {
   "cell_type": "code",
   "execution_count": null,
   "metadata": {
    "id": "Hen8bhG1uj8g"
   },
   "outputs": [],
   "source": []
  },
  {
   "cell_type": "markdown",
   "metadata": {
    "id": "kLcdKu6Duj8g"
   },
   "source": [
    "## Enriqueça os dados"
   ]
  },
  {
   "cell_type": "markdown",
   "metadata": {
    "id": "x1L6F_gmuj8g"
   },
   "source": [
    "[Inclua fatores adicionais aos dados se você acredita que eles podem ser úteis.]"
   ]
  },
  {
   "cell_type": "code",
   "execution_count": null,
   "metadata": {
    "id": "6j4XA9_ruj8g"
   },
   "outputs": [],
   "source": []
  },
  {
   "cell_type": "markdown",
   "metadata": {},
   "source": [
    "<div class=\"alert alert-block alert-warning\">\n",
    "<b> Comentário do revisor: </b> <a class=\"tocSkip\"></a>\n",
    "    \n",
    "- Os métodos `info()` e head foram utilizados para estudo inicial dos dados.\n",
    "- Dica: adicione suas observações acima explicando o motivo pelo qual não foram necessárias correções dos dados\n",
    "</div>\n"
   ]
  },
  {
   "cell_type": "markdown",
   "metadata": {},
   "source": [
    "<div class=\"alert alert-block alert-info\">\n",
    "<b>Resposta do Aluno.</b> <a class=\"tocSkip\"></a>\n",
    "    \n",
    "* Justificativa pelo qual não foram necessárias correções dos dados incluídas.\n",
    "</div>"
   ]
  },
  {
   "cell_type": "markdown",
   "metadata": {
    "id": "YJg2O9qjuj8g"
   },
   "source": [
    "## Usuários"
   ]
  },
  {
   "cell_type": "code",
   "execution_count": 5,
   "metadata": {
    "id": "7JzxwD2juj8g"
   },
   "outputs": [
    {
     "name": "stdout",
     "output_type": "stream",
     "text": [
      "<class 'pandas.core.frame.DataFrame'>\n",
      "RangeIndex: 500 entries, 0 to 499\n",
      "Data columns (total 8 columns):\n",
      " #   Column      Non-Null Count  Dtype \n",
      "---  ------      --------------  ----- \n",
      " 0   user_id     500 non-null    int64 \n",
      " 1   first_name  500 non-null    object\n",
      " 2   last_name   500 non-null    object\n",
      " 3   age         500 non-null    int64 \n",
      " 4   city        500 non-null    object\n",
      " 5   reg_date    500 non-null    object\n",
      " 6   plan        500 non-null    object\n",
      " 7   churn_date  34 non-null     object\n",
      "dtypes: int64(2), object(6)\n",
      "memory usage: 31.4+ KB\n",
      "\n",
      "False    500\n",
      "Name: count, dtype: int64\n"
     ]
    }
   ],
   "source": [
    "# Imprima as informações gerais/resumidas sobre o DataFrame dos usuários\n",
    "df_users.info()\n",
    "print()\n",
    "print(df_users.duplicated().value_counts()) #verificando duplicados"
   ]
  },
  {
   "cell_type": "code",
   "execution_count": 6,
   "metadata": {
    "id": "5KZ8XmD8uj8g"
   },
   "outputs": [
    {
     "name": "stdout",
     "output_type": "stream",
     "text": [
      "   user_id first_name  last_name  age                                    city  \\\n",
      "0     1000   Anamaria      Bauer   45   Atlanta-Sandy Springs-Roswell, GA MSA   \n",
      "1     1001     Mickey  Wilkerson   28         Seattle-Tacoma-Bellevue, WA MSA   \n",
      "2     1002     Carlee    Hoffman   36    Las Vegas-Henderson-Paradise, NV MSA   \n",
      "3     1003   Reynaldo    Jenkins   52                           Tulsa, OK MSA   \n",
      "4     1004    Leonila   Thompson   40         Seattle-Tacoma-Bellevue, WA MSA   \n",
      "5     1005      Livia    Shields   31     Dallas-Fort Worth-Arlington, TX MSA   \n",
      "6     1006     Jesusa   Bradford   73  San Francisco-Oakland-Berkeley, CA MSA   \n",
      "7     1007    Eusebio      Welch   42           Grand Rapids-Kentwood, MI MSA   \n",
      "8     1008      Emely    Hoffman   53       Orlando-Kissimmee-Sanford, FL MSA   \n",
      "9     1009      Gerry     Little   19  San Jose-Sunnyvale-Santa Clara, CA MSA   \n",
      "\n",
      "     reg_date      plan  churn_date  \n",
      "0  2018-12-24  ultimate         NaN  \n",
      "1  2018-08-13      surf         NaN  \n",
      "2  2018-10-21      surf         NaN  \n",
      "3  2018-01-28      surf         NaN  \n",
      "4  2018-05-23      surf         NaN  \n",
      "5  2018-11-29      surf         NaN  \n",
      "6  2018-11-27  ultimate  2018-12-18  \n",
      "7  2018-07-11      surf         NaN  \n",
      "8  2018-08-03  ultimate         NaN  \n",
      "9  2018-04-22      surf         NaN  \n",
      "\n",
      "           user_id         age\n",
      "count   500.000000  500.000000\n",
      "mean   1249.500000   45.486000\n",
      "std     144.481833   16.972269\n",
      "min    1000.000000   18.000000\n",
      "25%    1124.750000   30.000000\n",
      "50%    1249.500000   46.000000\n",
      "75%    1374.250000   61.000000\n",
      "max    1499.000000   75.000000\n"
     ]
    }
   ],
   "source": [
    "# Imprima uma amostra de dados dos usuários\n",
    "print(df_users.head(10))\n",
    "print()\n",
    "print(df_users.describe())"
   ]
  },
  {
   "cell_type": "markdown",
   "metadata": {
    "id": "XGCgkfLvuj8h"
   },
   "source": [
    "* Existem linhas com valores nulos na coluna `churn_date`, o que significa que os planos ainda estão ativos. Estes valores nulos serão padronizados com a string `active`.\n",
    "* conforme verificado, não existem valores duplicados."
   ]
  },
  {
   "cell_type": "markdown",
   "metadata": {
    "id": "ppiEfe3luj8i"
   },
   "source": [
    "### Corrija os dados"
   ]
  },
  {
   "cell_type": "markdown",
   "metadata": {
    "id": "os4Gubp_uj8j"
   },
   "source": [
    "[Corrija problemas óbvios com os dados conforme as observações iniciais.]"
   ]
  },
  {
   "cell_type": "code",
   "execution_count": 7,
   "metadata": {
    "id": "Oa1XFooouj8j",
    "scrolled": true
   },
   "outputs": [
    {
     "data": {
      "text/html": [
       "<div>\n",
       "<style scoped>\n",
       "    .dataframe tbody tr th:only-of-type {\n",
       "        vertical-align: middle;\n",
       "    }\n",
       "\n",
       "    .dataframe tbody tr th {\n",
       "        vertical-align: top;\n",
       "    }\n",
       "\n",
       "    .dataframe thead th {\n",
       "        text-align: right;\n",
       "    }\n",
       "</style>\n",
       "<table border=\"1\" class=\"dataframe\">\n",
       "  <thead>\n",
       "    <tr style=\"text-align: right;\">\n",
       "      <th></th>\n",
       "      <th>user_id</th>\n",
       "      <th>first_name</th>\n",
       "      <th>last_name</th>\n",
       "      <th>age</th>\n",
       "      <th>city</th>\n",
       "      <th>reg_date</th>\n",
       "      <th>plan</th>\n",
       "      <th>churn_date</th>\n",
       "      <th>active</th>\n",
       "    </tr>\n",
       "  </thead>\n",
       "  <tbody>\n",
       "    <tr>\n",
       "      <th>0</th>\n",
       "      <td>1000</td>\n",
       "      <td>Anamaria</td>\n",
       "      <td>Bauer</td>\n",
       "      <td>45</td>\n",
       "      <td>Atlanta-Sandy Springs-Roswell, GA MSA</td>\n",
       "      <td>2018-12-24</td>\n",
       "      <td>ultimate</td>\n",
       "      <td>NaN</td>\n",
       "      <td>1</td>\n",
       "    </tr>\n",
       "    <tr>\n",
       "      <th>1</th>\n",
       "      <td>1001</td>\n",
       "      <td>Mickey</td>\n",
       "      <td>Wilkerson</td>\n",
       "      <td>28</td>\n",
       "      <td>Seattle-Tacoma-Bellevue, WA MSA</td>\n",
       "      <td>2018-08-13</td>\n",
       "      <td>surf</td>\n",
       "      <td>NaN</td>\n",
       "      <td>1</td>\n",
       "    </tr>\n",
       "    <tr>\n",
       "      <th>2</th>\n",
       "      <td>1002</td>\n",
       "      <td>Carlee</td>\n",
       "      <td>Hoffman</td>\n",
       "      <td>36</td>\n",
       "      <td>Las Vegas-Henderson-Paradise, NV MSA</td>\n",
       "      <td>2018-10-21</td>\n",
       "      <td>surf</td>\n",
       "      <td>NaN</td>\n",
       "      <td>1</td>\n",
       "    </tr>\n",
       "    <tr>\n",
       "      <th>3</th>\n",
       "      <td>1003</td>\n",
       "      <td>Reynaldo</td>\n",
       "      <td>Jenkins</td>\n",
       "      <td>52</td>\n",
       "      <td>Tulsa, OK MSA</td>\n",
       "      <td>2018-01-28</td>\n",
       "      <td>surf</td>\n",
       "      <td>NaN</td>\n",
       "      <td>1</td>\n",
       "    </tr>\n",
       "    <tr>\n",
       "      <th>4</th>\n",
       "      <td>1004</td>\n",
       "      <td>Leonila</td>\n",
       "      <td>Thompson</td>\n",
       "      <td>40</td>\n",
       "      <td>Seattle-Tacoma-Bellevue, WA MSA</td>\n",
       "      <td>2018-05-23</td>\n",
       "      <td>surf</td>\n",
       "      <td>NaN</td>\n",
       "      <td>1</td>\n",
       "    </tr>\n",
       "    <tr>\n",
       "      <th>5</th>\n",
       "      <td>1005</td>\n",
       "      <td>Livia</td>\n",
       "      <td>Shields</td>\n",
       "      <td>31</td>\n",
       "      <td>Dallas-Fort Worth-Arlington, TX MSA</td>\n",
       "      <td>2018-11-29</td>\n",
       "      <td>surf</td>\n",
       "      <td>NaN</td>\n",
       "      <td>1</td>\n",
       "    </tr>\n",
       "    <tr>\n",
       "      <th>6</th>\n",
       "      <td>1006</td>\n",
       "      <td>Jesusa</td>\n",
       "      <td>Bradford</td>\n",
       "      <td>73</td>\n",
       "      <td>San Francisco-Oakland-Berkeley, CA MSA</td>\n",
       "      <td>2018-11-27</td>\n",
       "      <td>ultimate</td>\n",
       "      <td>2018-12-18</td>\n",
       "      <td>0</td>\n",
       "    </tr>\n",
       "    <tr>\n",
       "      <th>7</th>\n",
       "      <td>1007</td>\n",
       "      <td>Eusebio</td>\n",
       "      <td>Welch</td>\n",
       "      <td>42</td>\n",
       "      <td>Grand Rapids-Kentwood, MI MSA</td>\n",
       "      <td>2018-07-11</td>\n",
       "      <td>surf</td>\n",
       "      <td>NaN</td>\n",
       "      <td>1</td>\n",
       "    </tr>\n",
       "    <tr>\n",
       "      <th>8</th>\n",
       "      <td>1008</td>\n",
       "      <td>Emely</td>\n",
       "      <td>Hoffman</td>\n",
       "      <td>53</td>\n",
       "      <td>Orlando-Kissimmee-Sanford, FL MSA</td>\n",
       "      <td>2018-08-03</td>\n",
       "      <td>ultimate</td>\n",
       "      <td>NaN</td>\n",
       "      <td>1</td>\n",
       "    </tr>\n",
       "    <tr>\n",
       "      <th>9</th>\n",
       "      <td>1009</td>\n",
       "      <td>Gerry</td>\n",
       "      <td>Little</td>\n",
       "      <td>19</td>\n",
       "      <td>San Jose-Sunnyvale-Santa Clara, CA MSA</td>\n",
       "      <td>2018-04-22</td>\n",
       "      <td>surf</td>\n",
       "      <td>NaN</td>\n",
       "      <td>1</td>\n",
       "    </tr>\n",
       "  </tbody>\n",
       "</table>\n",
       "</div>"
      ],
      "text/plain": [
       "   user_id first_name  last_name  age                                    city  \\\n",
       "0     1000   Anamaria      Bauer   45   Atlanta-Sandy Springs-Roswell, GA MSA   \n",
       "1     1001     Mickey  Wilkerson   28         Seattle-Tacoma-Bellevue, WA MSA   \n",
       "2     1002     Carlee    Hoffman   36    Las Vegas-Henderson-Paradise, NV MSA   \n",
       "3     1003   Reynaldo    Jenkins   52                           Tulsa, OK MSA   \n",
       "4     1004    Leonila   Thompson   40         Seattle-Tacoma-Bellevue, WA MSA   \n",
       "5     1005      Livia    Shields   31     Dallas-Fort Worth-Arlington, TX MSA   \n",
       "6     1006     Jesusa   Bradford   73  San Francisco-Oakland-Berkeley, CA MSA   \n",
       "7     1007    Eusebio      Welch   42           Grand Rapids-Kentwood, MI MSA   \n",
       "8     1008      Emely    Hoffman   53       Orlando-Kissimmee-Sanford, FL MSA   \n",
       "9     1009      Gerry     Little   19  San Jose-Sunnyvale-Santa Clara, CA MSA   \n",
       "\n",
       "     reg_date      plan  churn_date  active  \n",
       "0  2018-12-24  ultimate         NaN       1  \n",
       "1  2018-08-13      surf         NaN       1  \n",
       "2  2018-10-21      surf         NaN       1  \n",
       "3  2018-01-28      surf         NaN       1  \n",
       "4  2018-05-23      surf         NaN       1  \n",
       "5  2018-11-29      surf         NaN       1  \n",
       "6  2018-11-27  ultimate  2018-12-18       0  \n",
       "7  2018-07-11      surf         NaN       1  \n",
       "8  2018-08-03  ultimate         NaN       1  \n",
       "9  2018-04-22      surf         NaN       1  "
      ]
     },
     "execution_count": 7,
     "metadata": {},
     "output_type": "execute_result"
    }
   ],
   "source": [
    "#df_users['churn_date'] = df_users['churn_date'].fillna('active') #substituindo valores nulos por 'active'\n",
    "df_users['active'] = df_users['churn_date'].isnull().astype(int)\n",
    "df_users.head(10)"
   ]
  },
  {
   "cell_type": "markdown",
   "metadata": {},
   "source": [
    "<div class=\"alert alert-block alert-danger\">\n",
    "<b> Comentário do revisor: </b> <a class=\"tocSkip\"></a>\n",
    "<s>    \n",
    "- Aqui você não deve preencher o variável `churn_date` com uma string, pois esse campo é do tipo data. Você pode deixar esse campo sem processar e criar uma outra variável indicando se o cliente cancelou ou preencher com dados do mesmo tipo.\n",
    "</s>\n",
    "</div>\n"
   ]
  },
  {
   "cell_type": "markdown",
   "metadata": {},
   "source": [
    "<div class=\"alert alert-block alert-info\">\n",
    "<b>Resposta do Aluno.</b> <a class=\"tocSkip\"></a>\n",
    "    \n",
    "* Dados da coluna `churn_date`foram mantidos e criei uma nova coluna chamada `active` com informação '1' para serviço ativo e '0' para serviço desativado.\n",
    "</div>"
   ]
  },
  {
   "cell_type": "markdown",
   "metadata": {
    "id": "H3gpde3Juj8j"
   },
   "source": [
    "### Enriqueça os dados"
   ]
  },
  {
   "cell_type": "markdown",
   "metadata": {
    "id": "HOZyfII6uj8j"
   },
   "source": [
    "[Inclua fatores adicionais aos dados se você acredita que eles podem ser úteis.]"
   ]
  },
  {
   "cell_type": "code",
   "execution_count": null,
   "metadata": {
    "id": "4vuUjT2juj8j"
   },
   "outputs": [],
   "source": []
  },
  {
   "cell_type": "markdown",
   "metadata": {
    "id": "f4uSIMuuuj8j"
   },
   "source": [
    "## Chamadas"
   ]
  },
  {
   "cell_type": "code",
   "execution_count": 8,
   "metadata": {
    "id": "hkY01fJnuj8j"
   },
   "outputs": [
    {
     "name": "stdout",
     "output_type": "stream",
     "text": [
      "<class 'pandas.core.frame.DataFrame'>\n",
      "RangeIndex: 137735 entries, 0 to 137734\n",
      "Data columns (total 4 columns):\n",
      " #   Column     Non-Null Count   Dtype  \n",
      "---  ------     --------------   -----  \n",
      " 0   id         137735 non-null  object \n",
      " 1   user_id    137735 non-null  int64  \n",
      " 2   call_date  137735 non-null  object \n",
      " 3   duration   137735 non-null  float64\n",
      "dtypes: float64(1), int64(1), object(2)\n",
      "memory usage: 4.2+ MB\n",
      "\n",
      "False    137735\n",
      "Name: count, dtype: int64\n"
     ]
    }
   ],
   "source": [
    "# Imprima as informações gerais/resumidas sobre o DataFrame das chamadas\n",
    "df_calls.info()\n",
    "print()\n",
    "print(df_calls.duplicated().value_counts()) #verificando duplicados"
   ]
  },
  {
   "cell_type": "code",
   "execution_count": 9,
   "metadata": {
    "id": "wdBwJG5Yuj8k"
   },
   "outputs": [
    {
     "name": "stdout",
     "output_type": "stream",
     "text": [
      "         id  user_id   call_date  duration\n",
      "0   1000_93     1000  2018-12-27      8.52\n",
      "1  1000_145     1000  2018-12-27     13.66\n",
      "2  1000_247     1000  2018-12-27     14.48\n",
      "3  1000_309     1000  2018-12-28      5.76\n",
      "4  1000_380     1000  2018-12-30      4.22\n",
      "5  1000_388     1000  2018-12-31      2.20\n",
      "6  1000_510     1000  2018-12-27      5.75\n",
      "7  1000_521     1000  2018-12-28     14.18\n",
      "8  1000_530     1000  2018-12-28      5.77\n",
      "9  1000_544     1000  2018-12-26      4.40\n",
      "\n",
      "             user_id       duration\n",
      "count  137735.000000  137735.000000\n",
      "mean     1247.658046       6.745927\n",
      "std       139.416268       5.839241\n",
      "min      1000.000000       0.000000\n",
      "25%      1128.000000       1.290000\n",
      "50%      1247.000000       5.980000\n",
      "75%      1365.000000      10.690000\n",
      "max      1499.000000      37.600000\n"
     ]
    }
   ],
   "source": [
    "# Imprima uma amostra de dados das chamadas\n",
    "print(df_calls.head(10))\n",
    "print()\n",
    "print(df_calls.describe())"
   ]
  },
  {
   "cell_type": "markdown",
   "metadata": {
    "id": "Y8An85-Tuj8k"
   },
   "source": [
    "Analisando os dados acima, percebemos a necessidade de alguns ajustes.\n",
    "* Coluna `call_date` precisa ser transformada de `object` para `datetime`. \n",
    "* Os tempo de duração de chamadas na coluna `duration` serão arredondados de acordo com as regras de tarifação estabelecidas pela operadora.\n",
    "* Será criada uma nova coluna chamada `month` que armazenará apenas os meses da coluna `call_date`."
   ]
  },
  {
   "cell_type": "markdown",
   "metadata": {
    "id": "x5a99U4xuj8k"
   },
   "source": [
    "### Corrija os dados"
   ]
  },
  {
   "cell_type": "markdown",
   "metadata": {
    "id": "MQqkU83Xuj8k"
   },
   "source": [
    "[Corrija problemas óbvios com os dados conforme as observações iniciais.]"
   ]
  },
  {
   "cell_type": "code",
   "execution_count": 10,
   "metadata": {
    "id": "lBjdw0Bnuj8l"
   },
   "outputs": [],
   "source": [
    "df_calls['call_date'] = pd.to_datetime(df_calls['call_date']) #transformando os dados para datetime\n",
    "df_calls['duration'] = df_calls['duration'].apply(mt.ceil) #arredondamento da duração de chamada para cima"
   ]
  },
  {
   "cell_type": "markdown",
   "metadata": {
    "id": "MFm5xyh4uj8l"
   },
   "source": [
    "### Enriqueça os dados"
   ]
  },
  {
   "cell_type": "markdown",
   "metadata": {
    "id": "Udv2togruj8l"
   },
   "source": [
    "[Inclua fatores adicionais aos dados se você acredita que eles podem ser úteis.]"
   ]
  },
  {
   "cell_type": "code",
   "execution_count": 11,
   "metadata": {
    "id": "nwOKTgfluj8l"
   },
   "outputs": [
    {
     "data": {
      "text/html": [
       "<div>\n",
       "<style scoped>\n",
       "    .dataframe tbody tr th:only-of-type {\n",
       "        vertical-align: middle;\n",
       "    }\n",
       "\n",
       "    .dataframe tbody tr th {\n",
       "        vertical-align: top;\n",
       "    }\n",
       "\n",
       "    .dataframe thead th {\n",
       "        text-align: right;\n",
       "    }\n",
       "</style>\n",
       "<table border=\"1\" class=\"dataframe\">\n",
       "  <thead>\n",
       "    <tr style=\"text-align: right;\">\n",
       "      <th></th>\n",
       "      <th>id</th>\n",
       "      <th>user_id</th>\n",
       "      <th>call_date</th>\n",
       "      <th>duration</th>\n",
       "      <th>month</th>\n",
       "    </tr>\n",
       "  </thead>\n",
       "  <tbody>\n",
       "    <tr>\n",
       "      <th>0</th>\n",
       "      <td>1000_93</td>\n",
       "      <td>1000</td>\n",
       "      <td>2018-12-27</td>\n",
       "      <td>9</td>\n",
       "      <td>12</td>\n",
       "    </tr>\n",
       "    <tr>\n",
       "      <th>1</th>\n",
       "      <td>1000_145</td>\n",
       "      <td>1000</td>\n",
       "      <td>2018-12-27</td>\n",
       "      <td>14</td>\n",
       "      <td>12</td>\n",
       "    </tr>\n",
       "    <tr>\n",
       "      <th>2</th>\n",
       "      <td>1000_247</td>\n",
       "      <td>1000</td>\n",
       "      <td>2018-12-27</td>\n",
       "      <td>15</td>\n",
       "      <td>12</td>\n",
       "    </tr>\n",
       "    <tr>\n",
       "      <th>3</th>\n",
       "      <td>1000_309</td>\n",
       "      <td>1000</td>\n",
       "      <td>2018-12-28</td>\n",
       "      <td>6</td>\n",
       "      <td>12</td>\n",
       "    </tr>\n",
       "    <tr>\n",
       "      <th>4</th>\n",
       "      <td>1000_380</td>\n",
       "      <td>1000</td>\n",
       "      <td>2018-12-30</td>\n",
       "      <td>5</td>\n",
       "      <td>12</td>\n",
       "    </tr>\n",
       "    <tr>\n",
       "      <th>5</th>\n",
       "      <td>1000_388</td>\n",
       "      <td>1000</td>\n",
       "      <td>2018-12-31</td>\n",
       "      <td>3</td>\n",
       "      <td>12</td>\n",
       "    </tr>\n",
       "    <tr>\n",
       "      <th>6</th>\n",
       "      <td>1000_510</td>\n",
       "      <td>1000</td>\n",
       "      <td>2018-12-27</td>\n",
       "      <td>6</td>\n",
       "      <td>12</td>\n",
       "    </tr>\n",
       "    <tr>\n",
       "      <th>7</th>\n",
       "      <td>1000_521</td>\n",
       "      <td>1000</td>\n",
       "      <td>2018-12-28</td>\n",
       "      <td>15</td>\n",
       "      <td>12</td>\n",
       "    </tr>\n",
       "    <tr>\n",
       "      <th>8</th>\n",
       "      <td>1000_530</td>\n",
       "      <td>1000</td>\n",
       "      <td>2018-12-28</td>\n",
       "      <td>6</td>\n",
       "      <td>12</td>\n",
       "    </tr>\n",
       "    <tr>\n",
       "      <th>9</th>\n",
       "      <td>1000_544</td>\n",
       "      <td>1000</td>\n",
       "      <td>2018-12-26</td>\n",
       "      <td>5</td>\n",
       "      <td>12</td>\n",
       "    </tr>\n",
       "  </tbody>\n",
       "</table>\n",
       "</div>"
      ],
      "text/plain": [
       "         id  user_id  call_date  duration  month\n",
       "0   1000_93     1000 2018-12-27         9     12\n",
       "1  1000_145     1000 2018-12-27        14     12\n",
       "2  1000_247     1000 2018-12-27        15     12\n",
       "3  1000_309     1000 2018-12-28         6     12\n",
       "4  1000_380     1000 2018-12-30         5     12\n",
       "5  1000_388     1000 2018-12-31         3     12\n",
       "6  1000_510     1000 2018-12-27         6     12\n",
       "7  1000_521     1000 2018-12-28        15     12\n",
       "8  1000_530     1000 2018-12-28         6     12\n",
       "9  1000_544     1000 2018-12-26         5     12"
      ]
     },
     "execution_count": 11,
     "metadata": {},
     "output_type": "execute_result"
    }
   ],
   "source": [
    "df_calls['month'] = df_calls['call_date'].dt.month #criando nova coluna com informação do mês\n",
    "df_calls.head(10)"
   ]
  },
  {
   "cell_type": "markdown",
   "metadata": {},
   "source": [
    "<div class=\"alert alert-block alert-success\">\n",
    "<b> Comentário do revisor: </b> <a class=\"tocSkip\"></a>\n",
    "    \n",
    "- Os métodos `info()` e `head()` foram utilizados para estudo dos dados\n",
    "- Os valores ausentes foram verificados\n",
    "- Os campos foram convertidos para os tipos adequados. Os campos de data foram corrigidos.\n",
    "- O método `describe()` foi utilizado para calcular estatísticas descritivas do conjunto de dados\n",
    "</div>\n"
   ]
  },
  {
   "cell_type": "markdown",
   "metadata": {
    "id": "qLz4FkyRuj8l"
   },
   "source": [
    "## Mensagens"
   ]
  },
  {
   "cell_type": "code",
   "execution_count": 12,
   "metadata": {
    "id": "nFA9DFkCuj8l"
   },
   "outputs": [
    {
     "name": "stdout",
     "output_type": "stream",
     "text": [
      "<class 'pandas.core.frame.DataFrame'>\n",
      "RangeIndex: 76051 entries, 0 to 76050\n",
      "Data columns (total 3 columns):\n",
      " #   Column        Non-Null Count  Dtype \n",
      "---  ------        --------------  ----- \n",
      " 0   id            76051 non-null  object\n",
      " 1   user_id       76051 non-null  int64 \n",
      " 2   message_date  76051 non-null  object\n",
      "dtypes: int64(1), object(2)\n",
      "memory usage: 1.7+ MB\n",
      "\n",
      "False    76051\n",
      "Name: count, dtype: int64\n"
     ]
    }
   ],
   "source": [
    "# Imprima as informações gerais/resumidas sobre o DataFrame das mensagens\n",
    "df_messages.info()\n",
    "print()\n",
    "print(df_messages.duplicated().value_counts()) #verificando duplicados"
   ]
  },
  {
   "cell_type": "code",
   "execution_count": 13,
   "metadata": {
    "id": "ysEFBZWxuj8m"
   },
   "outputs": [
    {
     "data": {
      "text/html": [
       "<div>\n",
       "<style scoped>\n",
       "    .dataframe tbody tr th:only-of-type {\n",
       "        vertical-align: middle;\n",
       "    }\n",
       "\n",
       "    .dataframe tbody tr th {\n",
       "        vertical-align: top;\n",
       "    }\n",
       "\n",
       "    .dataframe thead th {\n",
       "        text-align: right;\n",
       "    }\n",
       "</style>\n",
       "<table border=\"1\" class=\"dataframe\">\n",
       "  <thead>\n",
       "    <tr style=\"text-align: right;\">\n",
       "      <th></th>\n",
       "      <th>id</th>\n",
       "      <th>user_id</th>\n",
       "      <th>message_date</th>\n",
       "    </tr>\n",
       "  </thead>\n",
       "  <tbody>\n",
       "    <tr>\n",
       "      <th>0</th>\n",
       "      <td>1000_125</td>\n",
       "      <td>1000</td>\n",
       "      <td>2018-12-27</td>\n",
       "    </tr>\n",
       "    <tr>\n",
       "      <th>1</th>\n",
       "      <td>1000_160</td>\n",
       "      <td>1000</td>\n",
       "      <td>2018-12-31</td>\n",
       "    </tr>\n",
       "    <tr>\n",
       "      <th>2</th>\n",
       "      <td>1000_223</td>\n",
       "      <td>1000</td>\n",
       "      <td>2018-12-31</td>\n",
       "    </tr>\n",
       "    <tr>\n",
       "      <th>3</th>\n",
       "      <td>1000_251</td>\n",
       "      <td>1000</td>\n",
       "      <td>2018-12-27</td>\n",
       "    </tr>\n",
       "    <tr>\n",
       "      <th>4</th>\n",
       "      <td>1000_255</td>\n",
       "      <td>1000</td>\n",
       "      <td>2018-12-26</td>\n",
       "    </tr>\n",
       "    <tr>\n",
       "      <th>5</th>\n",
       "      <td>1000_346</td>\n",
       "      <td>1000</td>\n",
       "      <td>2018-12-29</td>\n",
       "    </tr>\n",
       "    <tr>\n",
       "      <th>6</th>\n",
       "      <td>1000_386</td>\n",
       "      <td>1000</td>\n",
       "      <td>2018-12-30</td>\n",
       "    </tr>\n",
       "    <tr>\n",
       "      <th>7</th>\n",
       "      <td>1000_413</td>\n",
       "      <td>1000</td>\n",
       "      <td>2018-12-31</td>\n",
       "    </tr>\n",
       "    <tr>\n",
       "      <th>8</th>\n",
       "      <td>1000_502</td>\n",
       "      <td>1000</td>\n",
       "      <td>2018-12-27</td>\n",
       "    </tr>\n",
       "    <tr>\n",
       "      <th>9</th>\n",
       "      <td>1000_525</td>\n",
       "      <td>1000</td>\n",
       "      <td>2018-12-28</td>\n",
       "    </tr>\n",
       "  </tbody>\n",
       "</table>\n",
       "</div>"
      ],
      "text/plain": [
       "         id  user_id message_date\n",
       "0  1000_125     1000   2018-12-27\n",
       "1  1000_160     1000   2018-12-31\n",
       "2  1000_223     1000   2018-12-31\n",
       "3  1000_251     1000   2018-12-27\n",
       "4  1000_255     1000   2018-12-26\n",
       "5  1000_346     1000   2018-12-29\n",
       "6  1000_386     1000   2018-12-30\n",
       "7  1000_413     1000   2018-12-31\n",
       "8  1000_502     1000   2018-12-27\n",
       "9  1000_525     1000   2018-12-28"
      ]
     },
     "execution_count": 13,
     "metadata": {},
     "output_type": "execute_result"
    }
   ],
   "source": [
    "# Imprima uma amostra dos dados das mensagens\n",
    "df_messages.head(10)"
   ]
  },
  {
   "cell_type": "markdown",
   "metadata": {
    "id": "GUtt1TqCuj8m"
   },
   "source": [
    "Analisando os dados acima, percebemos a necessidade de alguns ajustes.\n",
    "* Coluna `message_date` precisa ser transformada de `object` para `datetime`. \n",
    "* Será criada uma nova coluna chamada `month` que armazenará apenas os meses da coluna `message_date`."
   ]
  },
  {
   "cell_type": "markdown",
   "metadata": {
    "id": "tT8N_hc6uj8m"
   },
   "source": [
    "### Corrija os dados"
   ]
  },
  {
   "cell_type": "markdown",
   "metadata": {
    "id": "IgO0SzXKuj8m"
   },
   "source": [
    "[Corrija problemas óbvios com os dados conforme as observações iniciais.]"
   ]
  },
  {
   "cell_type": "code",
   "execution_count": 14,
   "metadata": {
    "id": "SpBqbQHCuj8m"
   },
   "outputs": [],
   "source": [
    "df_messages['message_date'] = pd.to_datetime(df_messages['message_date']) #transformando os dados para datetime"
   ]
  },
  {
   "cell_type": "markdown",
   "metadata": {
    "id": "feV2Njo9uj8n"
   },
   "source": [
    "### Enriqueça os dados"
   ]
  },
  {
   "cell_type": "markdown",
   "metadata": {
    "id": "KA5XDEoZuj8n"
   },
   "source": [
    "[Inclua fatores adicionais aos dados se você acredita que eles podem ser úteis.]"
   ]
  },
  {
   "cell_type": "code",
   "execution_count": 15,
   "metadata": {
    "id": "SkuCXcLJuj8n"
   },
   "outputs": [
    {
     "data": {
      "text/html": [
       "<div>\n",
       "<style scoped>\n",
       "    .dataframe tbody tr th:only-of-type {\n",
       "        vertical-align: middle;\n",
       "    }\n",
       "\n",
       "    .dataframe tbody tr th {\n",
       "        vertical-align: top;\n",
       "    }\n",
       "\n",
       "    .dataframe thead th {\n",
       "        text-align: right;\n",
       "    }\n",
       "</style>\n",
       "<table border=\"1\" class=\"dataframe\">\n",
       "  <thead>\n",
       "    <tr style=\"text-align: right;\">\n",
       "      <th></th>\n",
       "      <th>id</th>\n",
       "      <th>user_id</th>\n",
       "      <th>message_date</th>\n",
       "      <th>month</th>\n",
       "    </tr>\n",
       "  </thead>\n",
       "  <tbody>\n",
       "    <tr>\n",
       "      <th>0</th>\n",
       "      <td>1000_125</td>\n",
       "      <td>1000</td>\n",
       "      <td>2018-12-27</td>\n",
       "      <td>12</td>\n",
       "    </tr>\n",
       "    <tr>\n",
       "      <th>1</th>\n",
       "      <td>1000_160</td>\n",
       "      <td>1000</td>\n",
       "      <td>2018-12-31</td>\n",
       "      <td>12</td>\n",
       "    </tr>\n",
       "    <tr>\n",
       "      <th>2</th>\n",
       "      <td>1000_223</td>\n",
       "      <td>1000</td>\n",
       "      <td>2018-12-31</td>\n",
       "      <td>12</td>\n",
       "    </tr>\n",
       "    <tr>\n",
       "      <th>3</th>\n",
       "      <td>1000_251</td>\n",
       "      <td>1000</td>\n",
       "      <td>2018-12-27</td>\n",
       "      <td>12</td>\n",
       "    </tr>\n",
       "    <tr>\n",
       "      <th>4</th>\n",
       "      <td>1000_255</td>\n",
       "      <td>1000</td>\n",
       "      <td>2018-12-26</td>\n",
       "      <td>12</td>\n",
       "    </tr>\n",
       "    <tr>\n",
       "      <th>5</th>\n",
       "      <td>1000_346</td>\n",
       "      <td>1000</td>\n",
       "      <td>2018-12-29</td>\n",
       "      <td>12</td>\n",
       "    </tr>\n",
       "    <tr>\n",
       "      <th>6</th>\n",
       "      <td>1000_386</td>\n",
       "      <td>1000</td>\n",
       "      <td>2018-12-30</td>\n",
       "      <td>12</td>\n",
       "    </tr>\n",
       "    <tr>\n",
       "      <th>7</th>\n",
       "      <td>1000_413</td>\n",
       "      <td>1000</td>\n",
       "      <td>2018-12-31</td>\n",
       "      <td>12</td>\n",
       "    </tr>\n",
       "    <tr>\n",
       "      <th>8</th>\n",
       "      <td>1000_502</td>\n",
       "      <td>1000</td>\n",
       "      <td>2018-12-27</td>\n",
       "      <td>12</td>\n",
       "    </tr>\n",
       "    <tr>\n",
       "      <th>9</th>\n",
       "      <td>1000_525</td>\n",
       "      <td>1000</td>\n",
       "      <td>2018-12-28</td>\n",
       "      <td>12</td>\n",
       "    </tr>\n",
       "  </tbody>\n",
       "</table>\n",
       "</div>"
      ],
      "text/plain": [
       "         id  user_id message_date  month\n",
       "0  1000_125     1000   2018-12-27     12\n",
       "1  1000_160     1000   2018-12-31     12\n",
       "2  1000_223     1000   2018-12-31     12\n",
       "3  1000_251     1000   2018-12-27     12\n",
       "4  1000_255     1000   2018-12-26     12\n",
       "5  1000_346     1000   2018-12-29     12\n",
       "6  1000_386     1000   2018-12-30     12\n",
       "7  1000_413     1000   2018-12-31     12\n",
       "8  1000_502     1000   2018-12-27     12\n",
       "9  1000_525     1000   2018-12-28     12"
      ]
     },
     "execution_count": 15,
     "metadata": {},
     "output_type": "execute_result"
    }
   ],
   "source": [
    "df_messages['month'] = df_messages['message_date'].dt.month #criando nova coluna com informação do mês\n",
    "df_messages.head(10)"
   ]
  },
  {
   "cell_type": "markdown",
   "metadata": {},
   "source": [
    "<div class=\"alert alert-block alert-success\">\n",
    "<b> Comentário do revisor: </b> <a class=\"tocSkip\"></a>\n",
    "    \n",
    "- Os métodos `info()` e `head()` foram utilizados para estudo dos dados\n",
    "- Os valores ausentes foram verificados\n",
    "- Os campos foram convertidos para os tipos adequados. Os campos de data foram corrigidos.\n",
    "</div>\n"
   ]
  },
  {
   "cell_type": "markdown",
   "metadata": {
    "id": "ZRFaOWzGuj8n"
   },
   "source": [
    "## Internet"
   ]
  },
  {
   "cell_type": "code",
   "execution_count": 16,
   "metadata": {
    "id": "ob3-qv4nuj8n"
   },
   "outputs": [
    {
     "name": "stdout",
     "output_type": "stream",
     "text": [
      "<class 'pandas.core.frame.DataFrame'>\n",
      "RangeIndex: 104825 entries, 0 to 104824\n",
      "Data columns (total 4 columns):\n",
      " #   Column        Non-Null Count   Dtype  \n",
      "---  ------        --------------   -----  \n",
      " 0   id            104825 non-null  object \n",
      " 1   user_id       104825 non-null  int64  \n",
      " 2   session_date  104825 non-null  object \n",
      " 3   mb_used       104825 non-null  float64\n",
      "dtypes: float64(1), int64(1), object(2)\n",
      "memory usage: 3.2+ MB\n",
      "\n",
      "False    104825\n",
      "Name: count, dtype: int64\n"
     ]
    }
   ],
   "source": [
    "# Imprima as informações gerais/resumidas sobre o DataFrame da internet\n",
    "df_internet.info()\n",
    "print()\n",
    "print(df_internet.duplicated().value_counts()) #verificando duplicados"
   ]
  },
  {
   "cell_type": "code",
   "execution_count": 17,
   "metadata": {
    "id": "iIHK4fZsuj8n"
   },
   "outputs": [
    {
     "name": "stdout",
     "output_type": "stream",
     "text": [
      "         id  user_id session_date  mb_used\n",
      "0   1000_13     1000   2018-12-29    89.86\n",
      "1  1000_204     1000   2018-12-31     0.00\n",
      "2  1000_379     1000   2018-12-28   660.40\n",
      "3  1000_413     1000   2018-12-26   270.99\n",
      "4  1000_442     1000   2018-12-27   880.22\n",
      "5    1001_0     1001   2018-08-24   284.68\n",
      "6    1001_3     1001   2018-12-09   656.04\n",
      "7    1001_4     1001   2018-11-04    16.97\n",
      "8   1001_10     1001   2018-11-27   135.18\n",
      "9   1001_15     1001   2018-12-13   761.92\n",
      "\n",
      "             user_id        mb_used\n",
      "count  104825.000000  104825.000000\n",
      "mean     1242.496361     366.713701\n",
      "std       142.053913     277.170542\n",
      "min      1000.000000       0.000000\n",
      "25%      1122.000000     136.080000\n",
      "50%      1236.000000     343.980000\n",
      "75%      1367.000000     554.610000\n",
      "max      1499.000000    1693.470000\n"
     ]
    }
   ],
   "source": [
    "#  Imprima uma amostra de dados para o tráfego da internet\n",
    "print(df_internet.head(10))\n",
    "print()\n",
    "print(df_internet.describe())"
   ]
  },
  {
   "cell_type": "markdown",
   "metadata": {
    "id": "6wpo7ugquj8o"
   },
   "source": [
    "Analisando os dados acima, percebemos a necessidade de alguns ajustes.\n",
    "* Coluna `session_date` precisa ser transformada de `object` para `datetime`. \n",
    "* A qauntidade de dados trafegados por usuário na coluna `mb_used` serão ajustados de acordo com as regras de tarifação estabelecidas pela operadora.\n",
    "* Será criada uma nova coluna chamada `month` que armazenará apenas os meses da coluna `session_date`."
   ]
  },
  {
   "cell_type": "markdown",
   "metadata": {
    "id": "Tly90YrTuj8o"
   },
   "source": [
    "### Corrija os dados"
   ]
  },
  {
   "cell_type": "markdown",
   "metadata": {
    "id": "F_yvcX-9uj8o"
   },
   "source": [
    "[Corrija problemas óbvios com os dados conforme as observações iniciais.]"
   ]
  },
  {
   "cell_type": "code",
   "execution_count": 18,
   "metadata": {
    "id": "GCoX7kbmuj8o"
   },
   "outputs": [],
   "source": [
    "df_internet['session_date'] = pd.to_datetime(df_internet['session_date']) #transformando os dados para datetime"
   ]
  },
  {
   "cell_type": "markdown",
   "metadata": {
    "id": "DEDbrtFduj8o"
   },
   "source": [
    "### Enriqueça os dados"
   ]
  },
  {
   "cell_type": "markdown",
   "metadata": {
    "id": "ilg-XzXpuj8p"
   },
   "source": [
    "[Inclua fatores adicionais aos dados se você acredita que eles podem ser úteis.]"
   ]
  },
  {
   "cell_type": "code",
   "execution_count": 19,
   "metadata": {
    "id": "f1PoZ3Ukuj8p"
   },
   "outputs": [
    {
     "data": {
      "text/html": [
       "<div>\n",
       "<style scoped>\n",
       "    .dataframe tbody tr th:only-of-type {\n",
       "        vertical-align: middle;\n",
       "    }\n",
       "\n",
       "    .dataframe tbody tr th {\n",
       "        vertical-align: top;\n",
       "    }\n",
       "\n",
       "    .dataframe thead th {\n",
       "        text-align: right;\n",
       "    }\n",
       "</style>\n",
       "<table border=\"1\" class=\"dataframe\">\n",
       "  <thead>\n",
       "    <tr style=\"text-align: right;\">\n",
       "      <th></th>\n",
       "      <th>id</th>\n",
       "      <th>user_id</th>\n",
       "      <th>session_date</th>\n",
       "      <th>mb_used</th>\n",
       "      <th>month</th>\n",
       "    </tr>\n",
       "  </thead>\n",
       "  <tbody>\n",
       "    <tr>\n",
       "      <th>0</th>\n",
       "      <td>1000_13</td>\n",
       "      <td>1000</td>\n",
       "      <td>2018-12-29</td>\n",
       "      <td>89.86</td>\n",
       "      <td>12</td>\n",
       "    </tr>\n",
       "    <tr>\n",
       "      <th>1</th>\n",
       "      <td>1000_204</td>\n",
       "      <td>1000</td>\n",
       "      <td>2018-12-31</td>\n",
       "      <td>0.00</td>\n",
       "      <td>12</td>\n",
       "    </tr>\n",
       "    <tr>\n",
       "      <th>2</th>\n",
       "      <td>1000_379</td>\n",
       "      <td>1000</td>\n",
       "      <td>2018-12-28</td>\n",
       "      <td>660.40</td>\n",
       "      <td>12</td>\n",
       "    </tr>\n",
       "    <tr>\n",
       "      <th>3</th>\n",
       "      <td>1000_413</td>\n",
       "      <td>1000</td>\n",
       "      <td>2018-12-26</td>\n",
       "      <td>270.99</td>\n",
       "      <td>12</td>\n",
       "    </tr>\n",
       "    <tr>\n",
       "      <th>4</th>\n",
       "      <td>1000_442</td>\n",
       "      <td>1000</td>\n",
       "      <td>2018-12-27</td>\n",
       "      <td>880.22</td>\n",
       "      <td>12</td>\n",
       "    </tr>\n",
       "    <tr>\n",
       "      <th>5</th>\n",
       "      <td>1001_0</td>\n",
       "      <td>1001</td>\n",
       "      <td>2018-08-24</td>\n",
       "      <td>284.68</td>\n",
       "      <td>8</td>\n",
       "    </tr>\n",
       "    <tr>\n",
       "      <th>6</th>\n",
       "      <td>1001_3</td>\n",
       "      <td>1001</td>\n",
       "      <td>2018-12-09</td>\n",
       "      <td>656.04</td>\n",
       "      <td>12</td>\n",
       "    </tr>\n",
       "    <tr>\n",
       "      <th>7</th>\n",
       "      <td>1001_4</td>\n",
       "      <td>1001</td>\n",
       "      <td>2018-11-04</td>\n",
       "      <td>16.97</td>\n",
       "      <td>11</td>\n",
       "    </tr>\n",
       "    <tr>\n",
       "      <th>8</th>\n",
       "      <td>1001_10</td>\n",
       "      <td>1001</td>\n",
       "      <td>2018-11-27</td>\n",
       "      <td>135.18</td>\n",
       "      <td>11</td>\n",
       "    </tr>\n",
       "    <tr>\n",
       "      <th>9</th>\n",
       "      <td>1001_15</td>\n",
       "      <td>1001</td>\n",
       "      <td>2018-12-13</td>\n",
       "      <td>761.92</td>\n",
       "      <td>12</td>\n",
       "    </tr>\n",
       "  </tbody>\n",
       "</table>\n",
       "</div>"
      ],
      "text/plain": [
       "         id  user_id session_date  mb_used  month\n",
       "0   1000_13     1000   2018-12-29    89.86     12\n",
       "1  1000_204     1000   2018-12-31     0.00     12\n",
       "2  1000_379     1000   2018-12-28   660.40     12\n",
       "3  1000_413     1000   2018-12-26   270.99     12\n",
       "4  1000_442     1000   2018-12-27   880.22     12\n",
       "5    1001_0     1001   2018-08-24   284.68      8\n",
       "6    1001_3     1001   2018-12-09   656.04     12\n",
       "7    1001_4     1001   2018-11-04    16.97     11\n",
       "8   1001_10     1001   2018-11-27   135.18     11\n",
       "9   1001_15     1001   2018-12-13   761.92     12"
      ]
     },
     "execution_count": 19,
     "metadata": {},
     "output_type": "execute_result"
    }
   ],
   "source": [
    "df_internet['month'] = df_internet['session_date'].dt.month #criando nova coluna com informação do mês\n",
    "df_internet.head(10)"
   ]
  },
  {
   "cell_type": "markdown",
   "metadata": {},
   "source": [
    "<div class=\"alert alert-block alert-success\">\n",
    "<b> Comentário do revisor: </b> <a class=\"tocSkip\"></a>\n",
    "    \n",
    "- Os métodos `info()` e `head()` foram utilizados para estudo dos dados de internet\n",
    "- Os valores ausentes foram verificados\n",
    "- Os campos foram convertidos para os tipos adequados. Os campos de data foram corrigidos.\n",
    "</div>\n"
   ]
  },
  {
   "cell_type": "markdown",
   "metadata": {
    "id": "bnOX4ARJuj8p"
   },
   "source": [
    "## Estude as condições dos planos"
   ]
  },
  {
   "cell_type": "markdown",
   "metadata": {
    "id": "vMu9_L8quj8p"
   },
   "source": [
    "[É fundamental entender como os planos funcionam e como são as cobranças dos usuários com base na assinatura. Sugerimos imprimir as informações do plano para visualizar novamente as condições.]"
   ]
  },
  {
   "cell_type": "code",
   "execution_count": 20,
   "metadata": {
    "id": "vMXVndWEuj8p"
   },
   "outputs": [
    {
     "data": {
      "text/html": [
       "<div>\n",
       "<style scoped>\n",
       "    .dataframe tbody tr th:only-of-type {\n",
       "        vertical-align: middle;\n",
       "    }\n",
       "\n",
       "    .dataframe tbody tr th {\n",
       "        vertical-align: top;\n",
       "    }\n",
       "\n",
       "    .dataframe thead th {\n",
       "        text-align: right;\n",
       "    }\n",
       "</style>\n",
       "<table border=\"1\" class=\"dataframe\">\n",
       "  <thead>\n",
       "    <tr style=\"text-align: right;\">\n",
       "      <th></th>\n",
       "      <th>messages_included</th>\n",
       "      <th>mb_per_month_included</th>\n",
       "      <th>minutes_included</th>\n",
       "      <th>usd_monthly_pay</th>\n",
       "      <th>usd_per_gb</th>\n",
       "      <th>usd_per_message</th>\n",
       "      <th>usd_per_minute</th>\n",
       "      <th>plan_name</th>\n",
       "    </tr>\n",
       "  </thead>\n",
       "  <tbody>\n",
       "    <tr>\n",
       "      <th>0</th>\n",
       "      <td>50</td>\n",
       "      <td>15360</td>\n",
       "      <td>500</td>\n",
       "      <td>20</td>\n",
       "      <td>10</td>\n",
       "      <td>0.03</td>\n",
       "      <td>0.03</td>\n",
       "      <td>surf</td>\n",
       "    </tr>\n",
       "    <tr>\n",
       "      <th>1</th>\n",
       "      <td>1000</td>\n",
       "      <td>30720</td>\n",
       "      <td>3000</td>\n",
       "      <td>70</td>\n",
       "      <td>7</td>\n",
       "      <td>0.01</td>\n",
       "      <td>0.01</td>\n",
       "      <td>ultimate</td>\n",
       "    </tr>\n",
       "  </tbody>\n",
       "</table>\n",
       "</div>"
      ],
      "text/plain": [
       "   messages_included  mb_per_month_included  minutes_included  \\\n",
       "0                 50                  15360               500   \n",
       "1               1000                  30720              3000   \n",
       "\n",
       "   usd_monthly_pay  usd_per_gb  usd_per_message  usd_per_minute plan_name  \n",
       "0               20          10             0.03            0.03      surf  \n",
       "1               70           7             0.01            0.01  ultimate  "
      ]
     },
     "execution_count": 20,
     "metadata": {},
     "output_type": "execute_result"
    }
   ],
   "source": [
    "df_plans.head()# Imprima as condições do plano e certifique-se de que elas fazem sentido para você\n",
    "\n"
   ]
  },
  {
   "cell_type": "markdown",
   "metadata": {
    "id": "1v1EshDmuj8q"
   },
   "source": [
    "## Agregue os dados por usuário\n",
    "\n",
    "[Agora, como os dados estão limpos, agregue os dados por usuário por período para ter apenas um registro por usuário por período. Isso vai facilitar muito a análise posterior.]"
   ]
  },
  {
   "cell_type": "code",
   "execution_count": 21,
   "metadata": {
    "id": "4hmb2pSPuj8q"
   },
   "outputs": [
    {
     "name": "stdout",
     "output_type": "stream",
     "text": [
      "      user_id  month  total_calls\n",
      "0        1000     12           16\n",
      "1        1001      8           27\n",
      "2        1001      9           49\n",
      "3        1001     10           65\n",
      "4        1001     11           64\n",
      "...       ...    ...          ...\n",
      "2253     1498     12           39\n",
      "2254     1499      9           41\n",
      "2255     1499     10           53\n",
      "2256     1499     11           45\n",
      "2257     1499     12           65\n",
      "\n",
      "[2258 rows x 3 columns]\n"
     ]
    }
   ],
   "source": [
    "# Calcule o número de chamadas feitas por cada usuário por mês. Salve o resultado.\n",
    "call_num = df_calls.groupby(['user_id', 'month'])['id'].count().reset_index() #agrupar por user_id e contar cada evento\n",
    "call_num.rename(columns={'id': 'total_calls'}, inplace=True) #renomear a coluna 'id' por 'total_calls'\n",
    "print(call_num)"
   ]
  },
  {
   "cell_type": "code",
   "execution_count": 22,
   "metadata": {
    "id": "yHgBWCJJuj8q"
   },
   "outputs": [
    {
     "data": {
      "text/html": [
       "<div>\n",
       "<style scoped>\n",
       "    .dataframe tbody tr th:only-of-type {\n",
       "        vertical-align: middle;\n",
       "    }\n",
       "\n",
       "    .dataframe tbody tr th {\n",
       "        vertical-align: top;\n",
       "    }\n",
       "\n",
       "    .dataframe thead th {\n",
       "        text-align: right;\n",
       "    }\n",
       "</style>\n",
       "<table border=\"1\" class=\"dataframe\">\n",
       "  <thead>\n",
       "    <tr style=\"text-align: right;\">\n",
       "      <th></th>\n",
       "      <th>user_id</th>\n",
       "      <th>month</th>\n",
       "      <th>duration</th>\n",
       "    </tr>\n",
       "  </thead>\n",
       "  <tbody>\n",
       "    <tr>\n",
       "      <th>0</th>\n",
       "      <td>1000</td>\n",
       "      <td>12</td>\n",
       "      <td>124</td>\n",
       "    </tr>\n",
       "    <tr>\n",
       "      <th>1</th>\n",
       "      <td>1001</td>\n",
       "      <td>8</td>\n",
       "      <td>182</td>\n",
       "    </tr>\n",
       "    <tr>\n",
       "      <th>2</th>\n",
       "      <td>1001</td>\n",
       "      <td>9</td>\n",
       "      <td>315</td>\n",
       "    </tr>\n",
       "    <tr>\n",
       "      <th>3</th>\n",
       "      <td>1001</td>\n",
       "      <td>10</td>\n",
       "      <td>393</td>\n",
       "    </tr>\n",
       "    <tr>\n",
       "      <th>4</th>\n",
       "      <td>1001</td>\n",
       "      <td>11</td>\n",
       "      <td>426</td>\n",
       "    </tr>\n",
       "    <tr>\n",
       "      <th>5</th>\n",
       "      <td>1001</td>\n",
       "      <td>12</td>\n",
       "      <td>412</td>\n",
       "    </tr>\n",
       "    <tr>\n",
       "      <th>6</th>\n",
       "      <td>1002</td>\n",
       "      <td>10</td>\n",
       "      <td>59</td>\n",
       "    </tr>\n",
       "    <tr>\n",
       "      <th>7</th>\n",
       "      <td>1002</td>\n",
       "      <td>11</td>\n",
       "      <td>386</td>\n",
       "    </tr>\n",
       "    <tr>\n",
       "      <th>8</th>\n",
       "      <td>1002</td>\n",
       "      <td>12</td>\n",
       "      <td>384</td>\n",
       "    </tr>\n",
       "    <tr>\n",
       "      <th>9</th>\n",
       "      <td>1003</td>\n",
       "      <td>12</td>\n",
       "      <td>1104</td>\n",
       "    </tr>\n",
       "  </tbody>\n",
       "</table>\n",
       "</div>"
      ],
      "text/plain": [
       "   user_id  month  duration\n",
       "0     1000     12       124\n",
       "1     1001      8       182\n",
       "2     1001      9       315\n",
       "3     1001     10       393\n",
       "4     1001     11       426\n",
       "5     1001     12       412\n",
       "6     1002     10        59\n",
       "7     1002     11       386\n",
       "8     1002     12       384\n",
       "9     1003     12      1104"
      ]
     },
     "execution_count": 22,
     "metadata": {},
     "output_type": "execute_result"
    }
   ],
   "source": [
    "# Calcule a quantidade de minutos gastos por cada usuário por mês. Salve o resultado.\n",
    "call_time = df_calls.groupby(['user_id', 'month'])['duration'].sum().reset_index() #agrupar por user_id e somar cada evento\n",
    "call_time.head(10)"
   ]
  },
  {
   "cell_type": "code",
   "execution_count": 23,
   "metadata": {
    "id": "MaM_cPxauj8q"
   },
   "outputs": [
    {
     "data": {
      "text/html": [
       "<div>\n",
       "<style scoped>\n",
       "    .dataframe tbody tr th:only-of-type {\n",
       "        vertical-align: middle;\n",
       "    }\n",
       "\n",
       "    .dataframe tbody tr th {\n",
       "        vertical-align: top;\n",
       "    }\n",
       "\n",
       "    .dataframe thead th {\n",
       "        text-align: right;\n",
       "    }\n",
       "</style>\n",
       "<table border=\"1\" class=\"dataframe\">\n",
       "  <thead>\n",
       "    <tr style=\"text-align: right;\">\n",
       "      <th></th>\n",
       "      <th>user_id</th>\n",
       "      <th>month</th>\n",
       "      <th>total_msg</th>\n",
       "    </tr>\n",
       "  </thead>\n",
       "  <tbody>\n",
       "    <tr>\n",
       "      <th>0</th>\n",
       "      <td>1000</td>\n",
       "      <td>12</td>\n",
       "      <td>11</td>\n",
       "    </tr>\n",
       "    <tr>\n",
       "      <th>1</th>\n",
       "      <td>1001</td>\n",
       "      <td>8</td>\n",
       "      <td>30</td>\n",
       "    </tr>\n",
       "    <tr>\n",
       "      <th>2</th>\n",
       "      <td>1001</td>\n",
       "      <td>9</td>\n",
       "      <td>44</td>\n",
       "    </tr>\n",
       "    <tr>\n",
       "      <th>3</th>\n",
       "      <td>1001</td>\n",
       "      <td>10</td>\n",
       "      <td>53</td>\n",
       "    </tr>\n",
       "    <tr>\n",
       "      <th>4</th>\n",
       "      <td>1001</td>\n",
       "      <td>11</td>\n",
       "      <td>36</td>\n",
       "    </tr>\n",
       "    <tr>\n",
       "      <th>5</th>\n",
       "      <td>1001</td>\n",
       "      <td>12</td>\n",
       "      <td>44</td>\n",
       "    </tr>\n",
       "    <tr>\n",
       "      <th>6</th>\n",
       "      <td>1002</td>\n",
       "      <td>10</td>\n",
       "      <td>15</td>\n",
       "    </tr>\n",
       "    <tr>\n",
       "      <th>7</th>\n",
       "      <td>1002</td>\n",
       "      <td>11</td>\n",
       "      <td>32</td>\n",
       "    </tr>\n",
       "    <tr>\n",
       "      <th>8</th>\n",
       "      <td>1002</td>\n",
       "      <td>12</td>\n",
       "      <td>41</td>\n",
       "    </tr>\n",
       "    <tr>\n",
       "      <th>9</th>\n",
       "      <td>1003</td>\n",
       "      <td>12</td>\n",
       "      <td>50</td>\n",
       "    </tr>\n",
       "  </tbody>\n",
       "</table>\n",
       "</div>"
      ],
      "text/plain": [
       "   user_id  month  total_msg\n",
       "0     1000     12         11\n",
       "1     1001      8         30\n",
       "2     1001      9         44\n",
       "3     1001     10         53\n",
       "4     1001     11         36\n",
       "5     1001     12         44\n",
       "6     1002     10         15\n",
       "7     1002     11         32\n",
       "8     1002     12         41\n",
       "9     1003     12         50"
      ]
     },
     "execution_count": 23,
     "metadata": {},
     "output_type": "execute_result"
    }
   ],
   "source": [
    "# Calcule o número de mensagens enviadas por cada usuário por mês. Salve o resultado.\n",
    "msg_num = df_messages.groupby(['user_id', 'month'])['id'].count().reset_index() #agrupar por user_id e contar cada evento\n",
    "msg_num.rename(columns={'id': 'total_msg'}, inplace=True) #renomear a coluna 'id' por 'total_msg'\n",
    "msg_num.head(10)"
   ]
  },
  {
   "cell_type": "code",
   "execution_count": 24,
   "metadata": {
    "id": "WsCEZJ_xuj8q"
   },
   "outputs": [
    {
     "data": {
      "text/html": [
       "<div>\n",
       "<style scoped>\n",
       "    .dataframe tbody tr th:only-of-type {\n",
       "        vertical-align: middle;\n",
       "    }\n",
       "\n",
       "    .dataframe tbody tr th {\n",
       "        vertical-align: top;\n",
       "    }\n",
       "\n",
       "    .dataframe thead th {\n",
       "        text-align: right;\n",
       "    }\n",
       "</style>\n",
       "<table border=\"1\" class=\"dataframe\">\n",
       "  <thead>\n",
       "    <tr style=\"text-align: right;\">\n",
       "      <th></th>\n",
       "      <th>user_id</th>\n",
       "      <th>month</th>\n",
       "      <th>rounded_data</th>\n",
       "    </tr>\n",
       "  </thead>\n",
       "  <tbody>\n",
       "    <tr>\n",
       "      <th>0</th>\n",
       "      <td>1000</td>\n",
       "      <td>12</td>\n",
       "      <td>2</td>\n",
       "    </tr>\n",
       "    <tr>\n",
       "      <th>1</th>\n",
       "      <td>1001</td>\n",
       "      <td>8</td>\n",
       "      <td>7</td>\n",
       "    </tr>\n",
       "    <tr>\n",
       "      <th>2</th>\n",
       "      <td>1001</td>\n",
       "      <td>9</td>\n",
       "      <td>14</td>\n",
       "    </tr>\n",
       "    <tr>\n",
       "      <th>3</th>\n",
       "      <td>1001</td>\n",
       "      <td>10</td>\n",
       "      <td>22</td>\n",
       "    </tr>\n",
       "    <tr>\n",
       "      <th>4</th>\n",
       "      <td>1001</td>\n",
       "      <td>11</td>\n",
       "      <td>19</td>\n",
       "    </tr>\n",
       "    <tr>\n",
       "      <th>5</th>\n",
       "      <td>1001</td>\n",
       "      <td>12</td>\n",
       "      <td>19</td>\n",
       "    </tr>\n",
       "    <tr>\n",
       "      <th>6</th>\n",
       "      <td>1002</td>\n",
       "      <td>10</td>\n",
       "      <td>7</td>\n",
       "    </tr>\n",
       "    <tr>\n",
       "      <th>7</th>\n",
       "      <td>1002</td>\n",
       "      <td>11</td>\n",
       "      <td>19</td>\n",
       "    </tr>\n",
       "    <tr>\n",
       "      <th>8</th>\n",
       "      <td>1002</td>\n",
       "      <td>12</td>\n",
       "      <td>15</td>\n",
       "    </tr>\n",
       "    <tr>\n",
       "      <th>9</th>\n",
       "      <td>1003</td>\n",
       "      <td>12</td>\n",
       "      <td>27</td>\n",
       "    </tr>\n",
       "  </tbody>\n",
       "</table>\n",
       "</div>"
      ],
      "text/plain": [
       "   user_id  month  rounded_data\n",
       "0     1000     12             2\n",
       "1     1001      8             7\n",
       "2     1001      9            14\n",
       "3     1001     10            22\n",
       "4     1001     11            19\n",
       "5     1001     12            19\n",
       "6     1002     10             7\n",
       "7     1002     11            19\n",
       "8     1002     12            15\n",
       "9     1003     12            27"
      ]
     },
     "execution_count": 24,
     "metadata": {},
     "output_type": "execute_result"
    }
   ],
   "source": [
    "# Calcule o volume de tráfego de internet usado por cada usuário por mês. Salve o resultado.\n",
    "traffic_data = df_internet.groupby(['user_id', 'month'])['mb_used'].sum().reset_index() #agrupar por user_id e somar cada evento\n",
    "traffic_data.rename(columns={'id': 'total_traffic'}, inplace=True) #renomear a coluna 'id' por 'total_traffic'\n",
    "\n",
    "traffic_data['GB_used'] = traffic_data['mb_used'] / 1024 #transformar mb para GB\n",
    "traffic_data['rounded_data'] = traffic_data['GB_used'].apply(mt.ceil) #arredondar valor total de GB de acordo com regras da operadora\n",
    "traffic_data.drop('mb_used', axis=1, inplace=True) #excluir coluna\n",
    "traffic_data.drop('GB_used', axis=1, inplace=True) #excluir coluna\n",
    "traffic_data.head(10)"
   ]
  },
  {
   "cell_type": "markdown",
   "metadata": {
    "id": "6nBsD4hduj8q"
   },
   "source": [
    "[Coloque os dados agregados em um DataFrame para que um registro nele represente o que um usuário unívoco consumiu em um determinado mês.]"
   ]
  },
  {
   "cell_type": "code",
   "execution_count": 25,
   "metadata": {
    "id": "BYDTkxOauj8r"
   },
   "outputs": [
    {
     "data": {
      "text/html": [
       "<div>\n",
       "<style scoped>\n",
       "    .dataframe tbody tr th:only-of-type {\n",
       "        vertical-align: middle;\n",
       "    }\n",
       "\n",
       "    .dataframe tbody tr th {\n",
       "        vertical-align: top;\n",
       "    }\n",
       "\n",
       "    .dataframe thead th {\n",
       "        text-align: right;\n",
       "    }\n",
       "</style>\n",
       "<table border=\"1\" class=\"dataframe\">\n",
       "  <thead>\n",
       "    <tr style=\"text-align: right;\">\n",
       "      <th></th>\n",
       "      <th>user_id</th>\n",
       "      <th>month</th>\n",
       "      <th>total_calls</th>\n",
       "      <th>duration</th>\n",
       "      <th>total_msg</th>\n",
       "      <th>rounded_data</th>\n",
       "    </tr>\n",
       "  </thead>\n",
       "  <tbody>\n",
       "    <tr>\n",
       "      <th>0</th>\n",
       "      <td>1000</td>\n",
       "      <td>12</td>\n",
       "      <td>16.0</td>\n",
       "      <td>124.0</td>\n",
       "      <td>11.0</td>\n",
       "      <td>2.0</td>\n",
       "    </tr>\n",
       "    <tr>\n",
       "      <th>1</th>\n",
       "      <td>1001</td>\n",
       "      <td>8</td>\n",
       "      <td>27.0</td>\n",
       "      <td>182.0</td>\n",
       "      <td>30.0</td>\n",
       "      <td>7.0</td>\n",
       "    </tr>\n",
       "    <tr>\n",
       "      <th>2</th>\n",
       "      <td>1001</td>\n",
       "      <td>9</td>\n",
       "      <td>49.0</td>\n",
       "      <td>315.0</td>\n",
       "      <td>44.0</td>\n",
       "      <td>14.0</td>\n",
       "    </tr>\n",
       "    <tr>\n",
       "      <th>3</th>\n",
       "      <td>1001</td>\n",
       "      <td>10</td>\n",
       "      <td>65.0</td>\n",
       "      <td>393.0</td>\n",
       "      <td>53.0</td>\n",
       "      <td>22.0</td>\n",
       "    </tr>\n",
       "    <tr>\n",
       "      <th>4</th>\n",
       "      <td>1001</td>\n",
       "      <td>11</td>\n",
       "      <td>64.0</td>\n",
       "      <td>426.0</td>\n",
       "      <td>36.0</td>\n",
       "      <td>19.0</td>\n",
       "    </tr>\n",
       "    <tr>\n",
       "      <th>5</th>\n",
       "      <td>1001</td>\n",
       "      <td>12</td>\n",
       "      <td>56.0</td>\n",
       "      <td>412.0</td>\n",
       "      <td>44.0</td>\n",
       "      <td>19.0</td>\n",
       "    </tr>\n",
       "    <tr>\n",
       "      <th>6</th>\n",
       "      <td>1002</td>\n",
       "      <td>10</td>\n",
       "      <td>11.0</td>\n",
       "      <td>59.0</td>\n",
       "      <td>15.0</td>\n",
       "      <td>7.0</td>\n",
       "    </tr>\n",
       "    <tr>\n",
       "      <th>7</th>\n",
       "      <td>1002</td>\n",
       "      <td>11</td>\n",
       "      <td>55.0</td>\n",
       "      <td>386.0</td>\n",
       "      <td>32.0</td>\n",
       "      <td>19.0</td>\n",
       "    </tr>\n",
       "    <tr>\n",
       "      <th>8</th>\n",
       "      <td>1002</td>\n",
       "      <td>12</td>\n",
       "      <td>47.0</td>\n",
       "      <td>384.0</td>\n",
       "      <td>41.0</td>\n",
       "      <td>15.0</td>\n",
       "    </tr>\n",
       "    <tr>\n",
       "      <th>9</th>\n",
       "      <td>1003</td>\n",
       "      <td>12</td>\n",
       "      <td>149.0</td>\n",
       "      <td>1104.0</td>\n",
       "      <td>50.0</td>\n",
       "      <td>27.0</td>\n",
       "    </tr>\n",
       "  </tbody>\n",
       "</table>\n",
       "</div>"
      ],
      "text/plain": [
       "   user_id  month  total_calls  duration  total_msg  rounded_data\n",
       "0     1000     12         16.0     124.0       11.0           2.0\n",
       "1     1001      8         27.0     182.0       30.0           7.0\n",
       "2     1001      9         49.0     315.0       44.0          14.0\n",
       "3     1001     10         65.0     393.0       53.0          22.0\n",
       "4     1001     11         64.0     426.0       36.0          19.0\n",
       "5     1001     12         56.0     412.0       44.0          19.0\n",
       "6     1002     10         11.0      59.0       15.0           7.0\n",
       "7     1002     11         55.0     386.0       32.0          19.0\n",
       "8     1002     12         47.0     384.0       41.0          15.0\n",
       "9     1003     12        149.0    1104.0       50.0          27.0"
      ]
     },
     "execution_count": 25,
     "metadata": {},
     "output_type": "execute_result"
    }
   ],
   "source": [
    "# Junte os dados de chamadas, minutos, mensagens e internet com base em user_id e month\n",
    "merged_data = pd.merge(call_num, call_time, on=['user_id', 'month'], how='outer') #criando data frame com dados de call_num e call_time\n",
    "merged_data = pd.merge(merged_data, msg_num, on=['user_id', 'month'], how='outer') #adicionando dados de msg_num ao novo dataframe\n",
    "merged_data = pd.merge(merged_data, traffic_data, on=['user_id', 'month'], how='outer') #adicionando dados de traffic_data ao novo dataframe\n",
    "merged_data['total_msg'] = merged_data['total_msg'].fillna(0) #transformando valores nulos em 0 (zero)\n",
    "merged_data.head(10)"
   ]
  },
  {
   "cell_type": "code",
   "execution_count": 26,
   "metadata": {
    "id": "SW-sgLaHuj8r"
   },
   "outputs": [
    {
     "name": "stdout",
     "output_type": "stream",
     "text": [
      "Quantidade de linhas do DataFrame resultante: 2293\n"
     ]
    }
   ],
   "source": [
    "# Adicione as informações sobre o plano\n",
    "merged_data = pd.merge(merged_data, df_users[['user_id', 'plan']], on='user_id', how='left') #criar coluna com nome dos planos usados por cada usuário\n",
    "merged_data = pd.merge(merged_data, df_plans, left_on='plan', right_on='plan_name', how='left') #trazer todas as informações dos planos para o novo dataframe\n",
    "merged_data.drop('plan_name', axis=1, inplace=True) #excluir coluna 'plan_name' por já existir a informação na coluna 'plan'\n",
    "merged_data['mb_per_month_included'] = merged_data['mb_per_month_included'] / 1024 #transformar mg em gb \n",
    "merged_data.rename(columns={'mb_per_month_included': 'gb_per_month_included'}, inplace=True) #renomear de mg para gb\n",
    "merged_data.rename(columns={'rounded_data': 'rnd_gb_per_month_used'}, inplace=True) #renomar para 'rnd_gb_per_month_used' facilitando o entendimento\n",
    "merged_data.sample(10)\n",
    "\n",
    "print(\"Quantidade de linhas do DataFrame resultante:\", len(merged_data))"
   ]
  },
  {
   "cell_type": "markdown",
   "metadata": {},
   "source": [
    "<div class=\"alert alert-block alert-warning\">\n",
    "<b> Comentário do revisor: </b> <a class=\"tocSkip\"></a>\n",
    "    \n",
    "- Bom trabalho com os `joins` dos dados agregados dos usuários\n",
    "- Dica: imprima a quantidade de linhas do conjunto de dados resultante para garantir que a transformação foi aplicada conforme o esperado.\n",
    "</div>\n"
   ]
  },
  {
   "cell_type": "markdown",
   "metadata": {},
   "source": [
    "<div class=\"alert alert-block alert-info\">\n",
    "<b>Resposta do Aluno.</b> <a class=\"tocSkip\"></a>\n",
    "    \n",
    "* Código que imprime a quantidade de linhas do dataframe incluída.\n",
    "</div>"
   ]
  },
  {
   "cell_type": "markdown",
   "metadata": {
    "id": "mU8dKHTQuj8r"
   },
   "source": [
    "[Calcule a receita mensal para cada usuário: subtraia o limite gratuito do pacote do número total de chamadas, mensagens de texto e dados; multiplique o resultado pelo valor do plano de chamadas; adicione o preço mensal dependendo do plano. Importante: isso pode não ser tão trivial quanto apenas algumas linhas, dadas as condições do plano. Portanto, não há problema em gastar algum tempo nisso.]"
   ]
  },
  {
   "cell_type": "code",
   "execution_count": 27,
   "metadata": {
    "id": "JiPHXbQAuj8r"
   },
   "outputs": [
    {
     "data": {
      "text/html": [
       "<div>\n",
       "<style scoped>\n",
       "    .dataframe tbody tr th:only-of-type {\n",
       "        vertical-align: middle;\n",
       "    }\n",
       "\n",
       "    .dataframe tbody tr th {\n",
       "        vertical-align: top;\n",
       "    }\n",
       "\n",
       "    .dataframe thead th {\n",
       "        text-align: right;\n",
       "    }\n",
       "</style>\n",
       "<table border=\"1\" class=\"dataframe\">\n",
       "  <thead>\n",
       "    <tr style=\"text-align: right;\">\n",
       "      <th></th>\n",
       "      <th>user_id</th>\n",
       "      <th>month</th>\n",
       "      <th>total_calls</th>\n",
       "      <th>duration</th>\n",
       "      <th>total_msg</th>\n",
       "      <th>rnd_gb_per_month_used</th>\n",
       "      <th>plan</th>\n",
       "      <th>messages_included</th>\n",
       "      <th>gb_per_month_included</th>\n",
       "      <th>minutes_included</th>\n",
       "      <th>...</th>\n",
       "      <th>usd_per_message</th>\n",
       "      <th>usd_per_minute</th>\n",
       "      <th>exceeded_min</th>\n",
       "      <th>exceeded_msg</th>\n",
       "      <th>exceeded_data</th>\n",
       "      <th>USD_exceeded_min</th>\n",
       "      <th>USD_exceeded_msg</th>\n",
       "      <th>USD_exceeded_data</th>\n",
       "      <th>total_pay</th>\n",
       "      <th>exceed_plan</th>\n",
       "    </tr>\n",
       "  </thead>\n",
       "  <tbody>\n",
       "    <tr>\n",
       "      <th>0</th>\n",
       "      <td>1000</td>\n",
       "      <td>12</td>\n",
       "      <td>16.0</td>\n",
       "      <td>124.0</td>\n",
       "      <td>11.0</td>\n",
       "      <td>2.0</td>\n",
       "      <td>ultimate</td>\n",
       "      <td>1000</td>\n",
       "      <td>30.0</td>\n",
       "      <td>3000</td>\n",
       "      <td>...</td>\n",
       "      <td>0.01</td>\n",
       "      <td>0.01</td>\n",
       "      <td>0.0</td>\n",
       "      <td>0.0</td>\n",
       "      <td>0.0</td>\n",
       "      <td>0.00</td>\n",
       "      <td>0.00</td>\n",
       "      <td>0.0</td>\n",
       "      <td>70.00</td>\n",
       "      <td>0</td>\n",
       "    </tr>\n",
       "    <tr>\n",
       "      <th>1</th>\n",
       "      <td>1001</td>\n",
       "      <td>8</td>\n",
       "      <td>27.0</td>\n",
       "      <td>182.0</td>\n",
       "      <td>30.0</td>\n",
       "      <td>7.0</td>\n",
       "      <td>surf</td>\n",
       "      <td>50</td>\n",
       "      <td>15.0</td>\n",
       "      <td>500</td>\n",
       "      <td>...</td>\n",
       "      <td>0.03</td>\n",
       "      <td>0.03</td>\n",
       "      <td>0.0</td>\n",
       "      <td>0.0</td>\n",
       "      <td>0.0</td>\n",
       "      <td>0.00</td>\n",
       "      <td>0.00</td>\n",
       "      <td>0.0</td>\n",
       "      <td>20.00</td>\n",
       "      <td>0</td>\n",
       "    </tr>\n",
       "    <tr>\n",
       "      <th>2</th>\n",
       "      <td>1001</td>\n",
       "      <td>9</td>\n",
       "      <td>49.0</td>\n",
       "      <td>315.0</td>\n",
       "      <td>44.0</td>\n",
       "      <td>14.0</td>\n",
       "      <td>surf</td>\n",
       "      <td>50</td>\n",
       "      <td>15.0</td>\n",
       "      <td>500</td>\n",
       "      <td>...</td>\n",
       "      <td>0.03</td>\n",
       "      <td>0.03</td>\n",
       "      <td>0.0</td>\n",
       "      <td>0.0</td>\n",
       "      <td>0.0</td>\n",
       "      <td>0.00</td>\n",
       "      <td>0.00</td>\n",
       "      <td>0.0</td>\n",
       "      <td>20.00</td>\n",
       "      <td>0</td>\n",
       "    </tr>\n",
       "    <tr>\n",
       "      <th>3</th>\n",
       "      <td>1001</td>\n",
       "      <td>10</td>\n",
       "      <td>65.0</td>\n",
       "      <td>393.0</td>\n",
       "      <td>53.0</td>\n",
       "      <td>22.0</td>\n",
       "      <td>surf</td>\n",
       "      <td>50</td>\n",
       "      <td>15.0</td>\n",
       "      <td>500</td>\n",
       "      <td>...</td>\n",
       "      <td>0.03</td>\n",
       "      <td>0.03</td>\n",
       "      <td>0.0</td>\n",
       "      <td>3.0</td>\n",
       "      <td>7.0</td>\n",
       "      <td>0.00</td>\n",
       "      <td>0.09</td>\n",
       "      <td>70.0</td>\n",
       "      <td>97.09</td>\n",
       "      <td>1</td>\n",
       "    </tr>\n",
       "    <tr>\n",
       "      <th>4</th>\n",
       "      <td>1001</td>\n",
       "      <td>11</td>\n",
       "      <td>64.0</td>\n",
       "      <td>426.0</td>\n",
       "      <td>36.0</td>\n",
       "      <td>19.0</td>\n",
       "      <td>surf</td>\n",
       "      <td>50</td>\n",
       "      <td>15.0</td>\n",
       "      <td>500</td>\n",
       "      <td>...</td>\n",
       "      <td>0.03</td>\n",
       "      <td>0.03</td>\n",
       "      <td>0.0</td>\n",
       "      <td>0.0</td>\n",
       "      <td>4.0</td>\n",
       "      <td>0.00</td>\n",
       "      <td>0.00</td>\n",
       "      <td>40.0</td>\n",
       "      <td>64.00</td>\n",
       "      <td>1</td>\n",
       "    </tr>\n",
       "    <tr>\n",
       "      <th>5</th>\n",
       "      <td>1001</td>\n",
       "      <td>12</td>\n",
       "      <td>56.0</td>\n",
       "      <td>412.0</td>\n",
       "      <td>44.0</td>\n",
       "      <td>19.0</td>\n",
       "      <td>surf</td>\n",
       "      <td>50</td>\n",
       "      <td>15.0</td>\n",
       "      <td>500</td>\n",
       "      <td>...</td>\n",
       "      <td>0.03</td>\n",
       "      <td>0.03</td>\n",
       "      <td>0.0</td>\n",
       "      <td>0.0</td>\n",
       "      <td>4.0</td>\n",
       "      <td>0.00</td>\n",
       "      <td>0.00</td>\n",
       "      <td>40.0</td>\n",
       "      <td>64.00</td>\n",
       "      <td>1</td>\n",
       "    </tr>\n",
       "    <tr>\n",
       "      <th>6</th>\n",
       "      <td>1002</td>\n",
       "      <td>10</td>\n",
       "      <td>11.0</td>\n",
       "      <td>59.0</td>\n",
       "      <td>15.0</td>\n",
       "      <td>7.0</td>\n",
       "      <td>surf</td>\n",
       "      <td>50</td>\n",
       "      <td>15.0</td>\n",
       "      <td>500</td>\n",
       "      <td>...</td>\n",
       "      <td>0.03</td>\n",
       "      <td>0.03</td>\n",
       "      <td>0.0</td>\n",
       "      <td>0.0</td>\n",
       "      <td>0.0</td>\n",
       "      <td>0.00</td>\n",
       "      <td>0.00</td>\n",
       "      <td>0.0</td>\n",
       "      <td>20.00</td>\n",
       "      <td>0</td>\n",
       "    </tr>\n",
       "    <tr>\n",
       "      <th>7</th>\n",
       "      <td>1002</td>\n",
       "      <td>11</td>\n",
       "      <td>55.0</td>\n",
       "      <td>386.0</td>\n",
       "      <td>32.0</td>\n",
       "      <td>19.0</td>\n",
       "      <td>surf</td>\n",
       "      <td>50</td>\n",
       "      <td>15.0</td>\n",
       "      <td>500</td>\n",
       "      <td>...</td>\n",
       "      <td>0.03</td>\n",
       "      <td>0.03</td>\n",
       "      <td>0.0</td>\n",
       "      <td>0.0</td>\n",
       "      <td>4.0</td>\n",
       "      <td>0.00</td>\n",
       "      <td>0.00</td>\n",
       "      <td>40.0</td>\n",
       "      <td>64.00</td>\n",
       "      <td>1</td>\n",
       "    </tr>\n",
       "    <tr>\n",
       "      <th>8</th>\n",
       "      <td>1002</td>\n",
       "      <td>12</td>\n",
       "      <td>47.0</td>\n",
       "      <td>384.0</td>\n",
       "      <td>41.0</td>\n",
       "      <td>15.0</td>\n",
       "      <td>surf</td>\n",
       "      <td>50</td>\n",
       "      <td>15.0</td>\n",
       "      <td>500</td>\n",
       "      <td>...</td>\n",
       "      <td>0.03</td>\n",
       "      <td>0.03</td>\n",
       "      <td>0.0</td>\n",
       "      <td>0.0</td>\n",
       "      <td>0.0</td>\n",
       "      <td>0.00</td>\n",
       "      <td>0.00</td>\n",
       "      <td>0.0</td>\n",
       "      <td>20.00</td>\n",
       "      <td>0</td>\n",
       "    </tr>\n",
       "    <tr>\n",
       "      <th>9</th>\n",
       "      <td>1003</td>\n",
       "      <td>12</td>\n",
       "      <td>149.0</td>\n",
       "      <td>1104.0</td>\n",
       "      <td>50.0</td>\n",
       "      <td>27.0</td>\n",
       "      <td>surf</td>\n",
       "      <td>50</td>\n",
       "      <td>15.0</td>\n",
       "      <td>500</td>\n",
       "      <td>...</td>\n",
       "      <td>0.03</td>\n",
       "      <td>0.03</td>\n",
       "      <td>604.0</td>\n",
       "      <td>0.0</td>\n",
       "      <td>12.0</td>\n",
       "      <td>18.12</td>\n",
       "      <td>0.00</td>\n",
       "      <td>120.0</td>\n",
       "      <td>170.12</td>\n",
       "      <td>1</td>\n",
       "    </tr>\n",
       "    <tr>\n",
       "      <th>10</th>\n",
       "      <td>1004</td>\n",
       "      <td>5</td>\n",
       "      <td>21.0</td>\n",
       "      <td>193.0</td>\n",
       "      <td>7.0</td>\n",
       "      <td>7.0</td>\n",
       "      <td>surf</td>\n",
       "      <td>50</td>\n",
       "      <td>15.0</td>\n",
       "      <td>500</td>\n",
       "      <td>...</td>\n",
       "      <td>0.03</td>\n",
       "      <td>0.03</td>\n",
       "      <td>0.0</td>\n",
       "      <td>0.0</td>\n",
       "      <td>0.0</td>\n",
       "      <td>0.00</td>\n",
       "      <td>0.00</td>\n",
       "      <td>0.0</td>\n",
       "      <td>20.00</td>\n",
       "      <td>0</td>\n",
       "    </tr>\n",
       "    <tr>\n",
       "      <th>11</th>\n",
       "      <td>1004</td>\n",
       "      <td>6</td>\n",
       "      <td>44.0</td>\n",
       "      <td>275.0</td>\n",
       "      <td>18.0</td>\n",
       "      <td>21.0</td>\n",
       "      <td>surf</td>\n",
       "      <td>50</td>\n",
       "      <td>15.0</td>\n",
       "      <td>500</td>\n",
       "      <td>...</td>\n",
       "      <td>0.03</td>\n",
       "      <td>0.03</td>\n",
       "      <td>0.0</td>\n",
       "      <td>0.0</td>\n",
       "      <td>6.0</td>\n",
       "      <td>0.00</td>\n",
       "      <td>0.00</td>\n",
       "      <td>60.0</td>\n",
       "      <td>86.00</td>\n",
       "      <td>1</td>\n",
       "    </tr>\n",
       "    <tr>\n",
       "      <th>12</th>\n",
       "      <td>1004</td>\n",
       "      <td>7</td>\n",
       "      <td>49.0</td>\n",
       "      <td>381.0</td>\n",
       "      <td>26.0</td>\n",
       "      <td>24.0</td>\n",
       "      <td>surf</td>\n",
       "      <td>50</td>\n",
       "      <td>15.0</td>\n",
       "      <td>500</td>\n",
       "      <td>...</td>\n",
       "      <td>0.03</td>\n",
       "      <td>0.03</td>\n",
       "      <td>0.0</td>\n",
       "      <td>0.0</td>\n",
       "      <td>9.0</td>\n",
       "      <td>0.00</td>\n",
       "      <td>0.00</td>\n",
       "      <td>90.0</td>\n",
       "      <td>119.00</td>\n",
       "      <td>1</td>\n",
       "    </tr>\n",
       "    <tr>\n",
       "      <th>13</th>\n",
       "      <td>1004</td>\n",
       "      <td>8</td>\n",
       "      <td>49.0</td>\n",
       "      <td>354.0</td>\n",
       "      <td>25.0</td>\n",
       "      <td>28.0</td>\n",
       "      <td>surf</td>\n",
       "      <td>50</td>\n",
       "      <td>15.0</td>\n",
       "      <td>500</td>\n",
       "      <td>...</td>\n",
       "      <td>0.03</td>\n",
       "      <td>0.03</td>\n",
       "      <td>0.0</td>\n",
       "      <td>0.0</td>\n",
       "      <td>13.0</td>\n",
       "      <td>0.00</td>\n",
       "      <td>0.00</td>\n",
       "      <td>130.0</td>\n",
       "      <td>163.00</td>\n",
       "      <td>1</td>\n",
       "    </tr>\n",
       "    <tr>\n",
       "      <th>14</th>\n",
       "      <td>1004</td>\n",
       "      <td>9</td>\n",
       "      <td>42.0</td>\n",
       "      <td>301.0</td>\n",
       "      <td>21.0</td>\n",
       "      <td>19.0</td>\n",
       "      <td>surf</td>\n",
       "      <td>50</td>\n",
       "      <td>15.0</td>\n",
       "      <td>500</td>\n",
       "      <td>...</td>\n",
       "      <td>0.03</td>\n",
       "      <td>0.03</td>\n",
       "      <td>0.0</td>\n",
       "      <td>0.0</td>\n",
       "      <td>4.0</td>\n",
       "      <td>0.00</td>\n",
       "      <td>0.00</td>\n",
       "      <td>40.0</td>\n",
       "      <td>64.00</td>\n",
       "      <td>1</td>\n",
       "    </tr>\n",
       "    <tr>\n",
       "      <th>15</th>\n",
       "      <td>1004</td>\n",
       "      <td>10</td>\n",
       "      <td>61.0</td>\n",
       "      <td>365.0</td>\n",
       "      <td>24.0</td>\n",
       "      <td>15.0</td>\n",
       "      <td>surf</td>\n",
       "      <td>50</td>\n",
       "      <td>15.0</td>\n",
       "      <td>500</td>\n",
       "      <td>...</td>\n",
       "      <td>0.03</td>\n",
       "      <td>0.03</td>\n",
       "      <td>0.0</td>\n",
       "      <td>0.0</td>\n",
       "      <td>0.0</td>\n",
       "      <td>0.00</td>\n",
       "      <td>0.00</td>\n",
       "      <td>0.0</td>\n",
       "      <td>20.00</td>\n",
       "      <td>0</td>\n",
       "    </tr>\n",
       "    <tr>\n",
       "      <th>16</th>\n",
       "      <td>1004</td>\n",
       "      <td>11</td>\n",
       "      <td>54.0</td>\n",
       "      <td>476.0</td>\n",
       "      <td>25.0</td>\n",
       "      <td>22.0</td>\n",
       "      <td>surf</td>\n",
       "      <td>50</td>\n",
       "      <td>15.0</td>\n",
       "      <td>500</td>\n",
       "      <td>...</td>\n",
       "      <td>0.03</td>\n",
       "      <td>0.03</td>\n",
       "      <td>0.0</td>\n",
       "      <td>0.0</td>\n",
       "      <td>7.0</td>\n",
       "      <td>0.00</td>\n",
       "      <td>0.00</td>\n",
       "      <td>70.0</td>\n",
       "      <td>97.00</td>\n",
       "      <td>1</td>\n",
       "    </tr>\n",
       "    <tr>\n",
       "      <th>17</th>\n",
       "      <td>1004</td>\n",
       "      <td>12</td>\n",
       "      <td>50.0</td>\n",
       "      <td>427.0</td>\n",
       "      <td>31.0</td>\n",
       "      <td>21.0</td>\n",
       "      <td>surf</td>\n",
       "      <td>50</td>\n",
       "      <td>15.0</td>\n",
       "      <td>500</td>\n",
       "      <td>...</td>\n",
       "      <td>0.03</td>\n",
       "      <td>0.03</td>\n",
       "      <td>0.0</td>\n",
       "      <td>0.0</td>\n",
       "      <td>6.0</td>\n",
       "      <td>0.00</td>\n",
       "      <td>0.00</td>\n",
       "      <td>60.0</td>\n",
       "      <td>86.00</td>\n",
       "      <td>1</td>\n",
       "    </tr>\n",
       "    <tr>\n",
       "      <th>18</th>\n",
       "      <td>1005</td>\n",
       "      <td>12</td>\n",
       "      <td>59.0</td>\n",
       "      <td>496.0</td>\n",
       "      <td>11.0</td>\n",
       "      <td>17.0</td>\n",
       "      <td>surf</td>\n",
       "      <td>50</td>\n",
       "      <td>15.0</td>\n",
       "      <td>500</td>\n",
       "      <td>...</td>\n",
       "      <td>0.03</td>\n",
       "      <td>0.03</td>\n",
       "      <td>0.0</td>\n",
       "      <td>0.0</td>\n",
       "      <td>2.0</td>\n",
       "      <td>0.00</td>\n",
       "      <td>0.00</td>\n",
       "      <td>20.0</td>\n",
       "      <td>42.00</td>\n",
       "      <td>1</td>\n",
       "    </tr>\n",
       "    <tr>\n",
       "      <th>19</th>\n",
       "      <td>1006</td>\n",
       "      <td>11</td>\n",
       "      <td>2.0</td>\n",
       "      <td>10.0</td>\n",
       "      <td>15.0</td>\n",
       "      <td>3.0</td>\n",
       "      <td>ultimate</td>\n",
       "      <td>1000</td>\n",
       "      <td>30.0</td>\n",
       "      <td>3000</td>\n",
       "      <td>...</td>\n",
       "      <td>0.01</td>\n",
       "      <td>0.01</td>\n",
       "      <td>0.0</td>\n",
       "      <td>0.0</td>\n",
       "      <td>0.0</td>\n",
       "      <td>0.00</td>\n",
       "      <td>0.00</td>\n",
       "      <td>0.0</td>\n",
       "      <td>70.00</td>\n",
       "      <td>0</td>\n",
       "    </tr>\n",
       "    <tr>\n",
       "      <th>20</th>\n",
       "      <td>1006</td>\n",
       "      <td>12</td>\n",
       "      <td>9.0</td>\n",
       "      <td>59.0</td>\n",
       "      <td>139.0</td>\n",
       "      <td>32.0</td>\n",
       "      <td>ultimate</td>\n",
       "      <td>1000</td>\n",
       "      <td>30.0</td>\n",
       "      <td>3000</td>\n",
       "      <td>...</td>\n",
       "      <td>0.01</td>\n",
       "      <td>0.01</td>\n",
       "      <td>0.0</td>\n",
       "      <td>0.0</td>\n",
       "      <td>2.0</td>\n",
       "      <td>0.00</td>\n",
       "      <td>0.00</td>\n",
       "      <td>14.0</td>\n",
       "      <td>86.00</td>\n",
       "      <td>1</td>\n",
       "    </tr>\n",
       "    <tr>\n",
       "      <th>21</th>\n",
       "      <td>1007</td>\n",
       "      <td>8</td>\n",
       "      <td>70.0</td>\n",
       "      <td>456.0</td>\n",
       "      <td>51.0</td>\n",
       "      <td>24.0</td>\n",
       "      <td>surf</td>\n",
       "      <td>50</td>\n",
       "      <td>15.0</td>\n",
       "      <td>500</td>\n",
       "      <td>...</td>\n",
       "      <td>0.03</td>\n",
       "      <td>0.03</td>\n",
       "      <td>0.0</td>\n",
       "      <td>1.0</td>\n",
       "      <td>9.0</td>\n",
       "      <td>0.00</td>\n",
       "      <td>0.03</td>\n",
       "      <td>90.0</td>\n",
       "      <td>119.03</td>\n",
       "      <td>1</td>\n",
       "    </tr>\n",
       "    <tr>\n",
       "      <th>22</th>\n",
       "      <td>1007</td>\n",
       "      <td>9</td>\n",
       "      <td>63.0</td>\n",
       "      <td>399.0</td>\n",
       "      <td>47.0</td>\n",
       "      <td>28.0</td>\n",
       "      <td>surf</td>\n",
       "      <td>50</td>\n",
       "      <td>15.0</td>\n",
       "      <td>500</td>\n",
       "      <td>...</td>\n",
       "      <td>0.03</td>\n",
       "      <td>0.03</td>\n",
       "      <td>0.0</td>\n",
       "      <td>0.0</td>\n",
       "      <td>13.0</td>\n",
       "      <td>0.00</td>\n",
       "      <td>0.00</td>\n",
       "      <td>130.0</td>\n",
       "      <td>163.00</td>\n",
       "      <td>1</td>\n",
       "    </tr>\n",
       "    <tr>\n",
       "      <th>23</th>\n",
       "      <td>1007</td>\n",
       "      <td>10</td>\n",
       "      <td>80.0</td>\n",
       "      <td>645.0</td>\n",
       "      <td>59.0</td>\n",
       "      <td>37.0</td>\n",
       "      <td>surf</td>\n",
       "      <td>50</td>\n",
       "      <td>15.0</td>\n",
       "      <td>500</td>\n",
       "      <td>...</td>\n",
       "      <td>0.03</td>\n",
       "      <td>0.03</td>\n",
       "      <td>145.0</td>\n",
       "      <td>9.0</td>\n",
       "      <td>22.0</td>\n",
       "      <td>4.35</td>\n",
       "      <td>0.27</td>\n",
       "      <td>220.0</td>\n",
       "      <td>266.62</td>\n",
       "      <td>1</td>\n",
       "    </tr>\n",
       "    <tr>\n",
       "      <th>24</th>\n",
       "      <td>1007</td>\n",
       "      <td>11</td>\n",
       "      <td>80.0</td>\n",
       "      <td>524.0</td>\n",
       "      <td>48.0</td>\n",
       "      <td>24.0</td>\n",
       "      <td>surf</td>\n",
       "      <td>50</td>\n",
       "      <td>15.0</td>\n",
       "      <td>500</td>\n",
       "      <td>...</td>\n",
       "      <td>0.03</td>\n",
       "      <td>0.03</td>\n",
       "      <td>24.0</td>\n",
       "      <td>0.0</td>\n",
       "      <td>9.0</td>\n",
       "      <td>0.72</td>\n",
       "      <td>0.00</td>\n",
       "      <td>90.0</td>\n",
       "      <td>119.72</td>\n",
       "      <td>1</td>\n",
       "    </tr>\n",
       "    <tr>\n",
       "      <th>25</th>\n",
       "      <td>1007</td>\n",
       "      <td>12</td>\n",
       "      <td>87.0</td>\n",
       "      <td>617.0</td>\n",
       "      <td>50.0</td>\n",
       "      <td>29.0</td>\n",
       "      <td>surf</td>\n",
       "      <td>50</td>\n",
       "      <td>15.0</td>\n",
       "      <td>500</td>\n",
       "      <td>...</td>\n",
       "      <td>0.03</td>\n",
       "      <td>0.03</td>\n",
       "      <td>117.0</td>\n",
       "      <td>0.0</td>\n",
       "      <td>14.0</td>\n",
       "      <td>3.51</td>\n",
       "      <td>0.00</td>\n",
       "      <td>140.0</td>\n",
       "      <td>177.51</td>\n",
       "      <td>1</td>\n",
       "    </tr>\n",
       "    <tr>\n",
       "      <th>26</th>\n",
       "      <td>1008</td>\n",
       "      <td>10</td>\n",
       "      <td>71.0</td>\n",
       "      <td>476.0</td>\n",
       "      <td>21.0</td>\n",
       "      <td>17.0</td>\n",
       "      <td>ultimate</td>\n",
       "      <td>1000</td>\n",
       "      <td>30.0</td>\n",
       "      <td>3000</td>\n",
       "      <td>...</td>\n",
       "      <td>0.01</td>\n",
       "      <td>0.01</td>\n",
       "      <td>0.0</td>\n",
       "      <td>0.0</td>\n",
       "      <td>0.0</td>\n",
       "      <td>0.00</td>\n",
       "      <td>0.00</td>\n",
       "      <td>0.0</td>\n",
       "      <td>70.00</td>\n",
       "      <td>0</td>\n",
       "    </tr>\n",
       "    <tr>\n",
       "      <th>27</th>\n",
       "      <td>1008</td>\n",
       "      <td>11</td>\n",
       "      <td>63.0</td>\n",
       "      <td>446.0</td>\n",
       "      <td>37.0</td>\n",
       "      <td>24.0</td>\n",
       "      <td>ultimate</td>\n",
       "      <td>1000</td>\n",
       "      <td>30.0</td>\n",
       "      <td>3000</td>\n",
       "      <td>...</td>\n",
       "      <td>0.01</td>\n",
       "      <td>0.01</td>\n",
       "      <td>0.0</td>\n",
       "      <td>0.0</td>\n",
       "      <td>0.0</td>\n",
       "      <td>0.00</td>\n",
       "      <td>0.00</td>\n",
       "      <td>0.0</td>\n",
       "      <td>70.00</td>\n",
       "      <td>0</td>\n",
       "    </tr>\n",
       "    <tr>\n",
       "      <th>28</th>\n",
       "      <td>1008</td>\n",
       "      <td>12</td>\n",
       "      <td>85.0</td>\n",
       "      <td>634.0</td>\n",
       "      <td>26.0</td>\n",
       "      <td>15.0</td>\n",
       "      <td>ultimate</td>\n",
       "      <td>1000</td>\n",
       "      <td>30.0</td>\n",
       "      <td>3000</td>\n",
       "      <td>...</td>\n",
       "      <td>0.01</td>\n",
       "      <td>0.01</td>\n",
       "      <td>0.0</td>\n",
       "      <td>0.0</td>\n",
       "      <td>0.0</td>\n",
       "      <td>0.00</td>\n",
       "      <td>0.00</td>\n",
       "      <td>0.0</td>\n",
       "      <td>70.00</td>\n",
       "      <td>0</td>\n",
       "    </tr>\n",
       "    <tr>\n",
       "      <th>29</th>\n",
       "      <td>1009</td>\n",
       "      <td>5</td>\n",
       "      <td>71.0</td>\n",
       "      <td>534.0</td>\n",
       "      <td>0.0</td>\n",
       "      <td>20.0</td>\n",
       "      <td>surf</td>\n",
       "      <td>50</td>\n",
       "      <td>15.0</td>\n",
       "      <td>500</td>\n",
       "      <td>...</td>\n",
       "      <td>0.03</td>\n",
       "      <td>0.03</td>\n",
       "      <td>34.0</td>\n",
       "      <td>0.0</td>\n",
       "      <td>5.0</td>\n",
       "      <td>1.02</td>\n",
       "      <td>0.00</td>\n",
       "      <td>50.0</td>\n",
       "      <td>76.02</td>\n",
       "      <td>1</td>\n",
       "    </tr>\n",
       "  </tbody>\n",
       "</table>\n",
       "<p>30 rows × 22 columns</p>\n",
       "</div>"
      ],
      "text/plain": [
       "    user_id  month  total_calls  duration  total_msg  rnd_gb_per_month_used  \\\n",
       "0      1000     12         16.0     124.0       11.0                    2.0   \n",
       "1      1001      8         27.0     182.0       30.0                    7.0   \n",
       "2      1001      9         49.0     315.0       44.0                   14.0   \n",
       "3      1001     10         65.0     393.0       53.0                   22.0   \n",
       "4      1001     11         64.0     426.0       36.0                   19.0   \n",
       "5      1001     12         56.0     412.0       44.0                   19.0   \n",
       "6      1002     10         11.0      59.0       15.0                    7.0   \n",
       "7      1002     11         55.0     386.0       32.0                   19.0   \n",
       "8      1002     12         47.0     384.0       41.0                   15.0   \n",
       "9      1003     12        149.0    1104.0       50.0                   27.0   \n",
       "10     1004      5         21.0     193.0        7.0                    7.0   \n",
       "11     1004      6         44.0     275.0       18.0                   21.0   \n",
       "12     1004      7         49.0     381.0       26.0                   24.0   \n",
       "13     1004      8         49.0     354.0       25.0                   28.0   \n",
       "14     1004      9         42.0     301.0       21.0                   19.0   \n",
       "15     1004     10         61.0     365.0       24.0                   15.0   \n",
       "16     1004     11         54.0     476.0       25.0                   22.0   \n",
       "17     1004     12         50.0     427.0       31.0                   21.0   \n",
       "18     1005     12         59.0     496.0       11.0                   17.0   \n",
       "19     1006     11          2.0      10.0       15.0                    3.0   \n",
       "20     1006     12          9.0      59.0      139.0                   32.0   \n",
       "21     1007      8         70.0     456.0       51.0                   24.0   \n",
       "22     1007      9         63.0     399.0       47.0                   28.0   \n",
       "23     1007     10         80.0     645.0       59.0                   37.0   \n",
       "24     1007     11         80.0     524.0       48.0                   24.0   \n",
       "25     1007     12         87.0     617.0       50.0                   29.0   \n",
       "26     1008     10         71.0     476.0       21.0                   17.0   \n",
       "27     1008     11         63.0     446.0       37.0                   24.0   \n",
       "28     1008     12         85.0     634.0       26.0                   15.0   \n",
       "29     1009      5         71.0     534.0        0.0                   20.0   \n",
       "\n",
       "        plan  messages_included  gb_per_month_included  minutes_included  ...  \\\n",
       "0   ultimate               1000                   30.0              3000  ...   \n",
       "1       surf                 50                   15.0               500  ...   \n",
       "2       surf                 50                   15.0               500  ...   \n",
       "3       surf                 50                   15.0               500  ...   \n",
       "4       surf                 50                   15.0               500  ...   \n",
       "5       surf                 50                   15.0               500  ...   \n",
       "6       surf                 50                   15.0               500  ...   \n",
       "7       surf                 50                   15.0               500  ...   \n",
       "8       surf                 50                   15.0               500  ...   \n",
       "9       surf                 50                   15.0               500  ...   \n",
       "10      surf                 50                   15.0               500  ...   \n",
       "11      surf                 50                   15.0               500  ...   \n",
       "12      surf                 50                   15.0               500  ...   \n",
       "13      surf                 50                   15.0               500  ...   \n",
       "14      surf                 50                   15.0               500  ...   \n",
       "15      surf                 50                   15.0               500  ...   \n",
       "16      surf                 50                   15.0               500  ...   \n",
       "17      surf                 50                   15.0               500  ...   \n",
       "18      surf                 50                   15.0               500  ...   \n",
       "19  ultimate               1000                   30.0              3000  ...   \n",
       "20  ultimate               1000                   30.0              3000  ...   \n",
       "21      surf                 50                   15.0               500  ...   \n",
       "22      surf                 50                   15.0               500  ...   \n",
       "23      surf                 50                   15.0               500  ...   \n",
       "24      surf                 50                   15.0               500  ...   \n",
       "25      surf                 50                   15.0               500  ...   \n",
       "26  ultimate               1000                   30.0              3000  ...   \n",
       "27  ultimate               1000                   30.0              3000  ...   \n",
       "28  ultimate               1000                   30.0              3000  ...   \n",
       "29      surf                 50                   15.0               500  ...   \n",
       "\n",
       "    usd_per_message  usd_per_minute  exceeded_min  exceeded_msg  \\\n",
       "0              0.01            0.01           0.0           0.0   \n",
       "1              0.03            0.03           0.0           0.0   \n",
       "2              0.03            0.03           0.0           0.0   \n",
       "3              0.03            0.03           0.0           3.0   \n",
       "4              0.03            0.03           0.0           0.0   \n",
       "5              0.03            0.03           0.0           0.0   \n",
       "6              0.03            0.03           0.0           0.0   \n",
       "7              0.03            0.03           0.0           0.0   \n",
       "8              0.03            0.03           0.0           0.0   \n",
       "9              0.03            0.03         604.0           0.0   \n",
       "10             0.03            0.03           0.0           0.0   \n",
       "11             0.03            0.03           0.0           0.0   \n",
       "12             0.03            0.03           0.0           0.0   \n",
       "13             0.03            0.03           0.0           0.0   \n",
       "14             0.03            0.03           0.0           0.0   \n",
       "15             0.03            0.03           0.0           0.0   \n",
       "16             0.03            0.03           0.0           0.0   \n",
       "17             0.03            0.03           0.0           0.0   \n",
       "18             0.03            0.03           0.0           0.0   \n",
       "19             0.01            0.01           0.0           0.0   \n",
       "20             0.01            0.01           0.0           0.0   \n",
       "21             0.03            0.03           0.0           1.0   \n",
       "22             0.03            0.03           0.0           0.0   \n",
       "23             0.03            0.03         145.0           9.0   \n",
       "24             0.03            0.03          24.0           0.0   \n",
       "25             0.03            0.03         117.0           0.0   \n",
       "26             0.01            0.01           0.0           0.0   \n",
       "27             0.01            0.01           0.0           0.0   \n",
       "28             0.01            0.01           0.0           0.0   \n",
       "29             0.03            0.03          34.0           0.0   \n",
       "\n",
       "    exceeded_data  USD_exceeded_min  USD_exceeded_msg  USD_exceeded_data  \\\n",
       "0             0.0              0.00              0.00                0.0   \n",
       "1             0.0              0.00              0.00                0.0   \n",
       "2             0.0              0.00              0.00                0.0   \n",
       "3             7.0              0.00              0.09               70.0   \n",
       "4             4.0              0.00              0.00               40.0   \n",
       "5             4.0              0.00              0.00               40.0   \n",
       "6             0.0              0.00              0.00                0.0   \n",
       "7             4.0              0.00              0.00               40.0   \n",
       "8             0.0              0.00              0.00                0.0   \n",
       "9            12.0             18.12              0.00              120.0   \n",
       "10            0.0              0.00              0.00                0.0   \n",
       "11            6.0              0.00              0.00               60.0   \n",
       "12            9.0              0.00              0.00               90.0   \n",
       "13           13.0              0.00              0.00              130.0   \n",
       "14            4.0              0.00              0.00               40.0   \n",
       "15            0.0              0.00              0.00                0.0   \n",
       "16            7.0              0.00              0.00               70.0   \n",
       "17            6.0              0.00              0.00               60.0   \n",
       "18            2.0              0.00              0.00               20.0   \n",
       "19            0.0              0.00              0.00                0.0   \n",
       "20            2.0              0.00              0.00               14.0   \n",
       "21            9.0              0.00              0.03               90.0   \n",
       "22           13.0              0.00              0.00              130.0   \n",
       "23           22.0              4.35              0.27              220.0   \n",
       "24            9.0              0.72              0.00               90.0   \n",
       "25           14.0              3.51              0.00              140.0   \n",
       "26            0.0              0.00              0.00                0.0   \n",
       "27            0.0              0.00              0.00                0.0   \n",
       "28            0.0              0.00              0.00                0.0   \n",
       "29            5.0              1.02              0.00               50.0   \n",
       "\n",
       "    total_pay  exceed_plan  \n",
       "0       70.00            0  \n",
       "1       20.00            0  \n",
       "2       20.00            0  \n",
       "3       97.09            1  \n",
       "4       64.00            1  \n",
       "5       64.00            1  \n",
       "6       20.00            0  \n",
       "7       64.00            1  \n",
       "8       20.00            0  \n",
       "9      170.12            1  \n",
       "10      20.00            0  \n",
       "11      86.00            1  \n",
       "12     119.00            1  \n",
       "13     163.00            1  \n",
       "14      64.00            1  \n",
       "15      20.00            0  \n",
       "16      97.00            1  \n",
       "17      86.00            1  \n",
       "18      42.00            1  \n",
       "19      70.00            0  \n",
       "20      86.00            1  \n",
       "21     119.03            1  \n",
       "22     163.00            1  \n",
       "23     266.62            1  \n",
       "24     119.72            1  \n",
       "25     177.51            1  \n",
       "26      70.00            0  \n",
       "27      70.00            0  \n",
       "28      70.00            0  \n",
       "29      76.02            1  \n",
       "\n",
       "[30 rows x 22 columns]"
      ]
     },
     "execution_count": 27,
     "metadata": {},
     "output_type": "execute_result"
    }
   ],
   "source": [
    "# Calcule a receita mensal para cada usuário\n",
    "def calculate_exceeded_min(row): #função para calcular 'exceeded_min'\n",
    "    return max(0, row['duration'] - row['minutes_included'])\n",
    "\n",
    "def calculate_exceeded_msg(row): #função para calcular 'exceeded_msg'\n",
    "    return max(0, row['total_msg'] - row['messages_included'])\n",
    "\n",
    "def calculate_exceeded_data(row): #função para calcular 'exceeded_data'\n",
    "    return max(0, row['rnd_gb_per_month_used'] - row['gb_per_month_included'])\n",
    "\n",
    "\n",
    "merged_data['exceeded_min'] = merged_data.apply(calculate_exceeded_min, axis=1) #aplicar a função na nova coluna 'exceeded_min'\n",
    "merged_data['exceeded_msg'] = merged_data.apply(calculate_exceeded_msg, axis=1) #aplicar a função na nova coluna 'exceeded_msg'\n",
    "merged_data['exceeded_data'] = merged_data.apply(calculate_exceeded_data, axis=1) #aplicar a função na nova coluna 'exceeded_data'\n",
    "\n",
    "####\n",
    "\n",
    "merged_data['USD_exceeded_min'] = merged_data['exceeded_min'] * merged_data['usd_per_minute'] #multiplicar 'exceeded_min' pela coluna 'usd_per_minute' e criar 'USD_exceeded_min'\n",
    "merged_data['USD_exceeded_msg'] = merged_data['exceeded_msg'] * merged_data['usd_per_message'] #multiplicar 'exceeded_msg' pela coluna 'usd_per_message' e criar 'USD_exceeded_msg'\n",
    "merged_data['USD_exceeded_data'] = merged_data['exceeded_data'] * merged_data['usd_per_gb'] #multiplicar 'exceeded_data' pela coluna 'usd_per_gb' e criar 'USD_exceeded_data'\n",
    "\n",
    "####\n",
    "\n",
    "merged_data['total_pay'] = (merged_data['usd_monthly_pay'] +\n",
    "                            merged_data['USD_exceeded_min'] +\n",
    "                            merged_data['USD_exceeded_msg'] +\n",
    "                            merged_data['USD_exceeded_data'] +\n",
    "                            merged_data['exceeded_data'])       #cálculo da receita mensal por usuário na coluna 'total_pay'\n",
    "\n",
    "####\n",
    "\n",
    "merged_data['exceed_plan'] = (merged_data['total_pay'] > merged_data['usd_monthly_pay']).astype(int) #criar 'exceed_plan' com base na condição 'total_pay' > 'usd_monthly_pay'\n",
    "\n",
    "####\n",
    "\n",
    "merged_data.head(30)"
   ]
  },
  {
   "cell_type": "markdown",
   "metadata": {},
   "source": [
    "<div class=\"alert alert-block alert-success\">\n",
    "<b> Comentário do revisor: </b> <a class=\"tocSkip\"></a>\n",
    "    \n",
    "- A função de cálculo de receita e excedente foi implementada.\n",
    "</div>\n"
   ]
  },
  {
   "cell_type": "markdown",
   "metadata": {
    "id": "0HFWXKTQuj8r"
   },
   "source": [
    "## Estude o comportamento do usuário"
   ]
  },
  {
   "cell_type": "markdown",
   "metadata": {
    "id": "i6gGFggkuj8s"
   },
   "source": [
    "[Calcule algumas estatísticas descritivas úteis para os dados agregados e unidos, que geralmente revelam uma imagem geral capturada pelos dados. Desenhe gráficos úteis para ajudar na compreensão. Já que a tarefa principal é comparar os planos e decidir qual é mais rentável, as estatísticas e os gráficos devem ser calculados por plano.]\n",
    "\n",
    "[Existem dicas relevantes nos comentários para chamadas, mas elas não são fornecidas para mensagens e internet, embora o princípio do estudo estatístico seja o mesmo para todas.]"
   ]
  },
  {
   "cell_type": "markdown",
   "metadata": {
    "id": "umaMfSLxuj8s"
   },
   "source": [
    "### Chamadas"
   ]
  },
  {
   "cell_type": "code",
   "execution_count": 28,
   "metadata": {
    "id": "0236-tJnuj8t"
   },
   "outputs": [
    {
     "data": {
      "image/png": "[encoded data removed]",
      "text/plain": [
       "<Figure size 1200x600 with 1 Axes>"
      ]
     },
     "metadata": {},
     "output_type": "display_data"
    }
   ],
   "source": [
    "# Compare a duração média das chamadas de cada plano para cada mês distinto. Crie um gráfico de barras para visualizá-lo.\n",
    "average_duration_per_month = merged_data.groupby(['plan', 'month'])['duration'].mean().reset_index() #duração média para cada plano em cada mês\n",
    "\n",
    "meses_mapping = {\n",
    "    1: 'janeiro',\n",
    "    2: 'fevereiro',\n",
    "    3: 'março',\n",
    "    4: 'abril',\n",
    "    5: 'maio',\n",
    "    6: 'junho',\n",
    "    7: 'julho',\n",
    "    8: 'agosto',\n",
    "    9: 'setembro',\n",
    "    10: 'outubro',\n",
    "    11: 'novembro',\n",
    "    12: 'dezembro'\n",
    "} #alterar numeral para meses escritos por extenso\n",
    "\n",
    "average_duration_per_month['month'] = average_duration_per_month['month'].map(meses_mapping)\n",
    "sort_month_plan = average_duration_per_month['month'].map({month: num for num, month in meses_mapping.items()})\n",
    "sort_month_plan = average_duration_per_month.loc[sort_month_plan.sort_values().index]\n",
    "sort_month_plan = average_duration_per_month.reset_index(drop=True)\n",
    "\n",
    "surf_data = sort_month_plan[sort_month_plan['plan'] == 'surf'] #separar informações somente do plano surf\n",
    "ultimate_data = sort_month_plan[sort_month_plan['plan'] == 'ultimate'] #separar informações somente do plano ultimate\n",
    "\n",
    "bar_width = 0.4  #largura das barras\n",
    "index = np.arange(len(surf_data['month']))  #posições no eixo x\n",
    "\n",
    "plt.figure(figsize=(12, 6)) #tamanho da figura\n",
    "\n",
    "plt.bar(index, surf_data['duration'], width=bar_width, label='Surf', alpha=0.7) #desenhar as barras para 'surf'\n",
    "plt.bar(index + bar_width, ultimate_data['duration'], width=bar_width, label='Ultimate', alpha=0.7) #desenhar as barras para 'ultimate'\n",
    "\n",
    "plt.xlabel('Mês')\n",
    "plt.ylabel('Duração Média (minutos)')\n",
    "plt.title('Duração Média por Mês e Plano')\n",
    "plt.xticks(index + bar_width / 2, surf_data['month'], rotation = 45)  #adicionar rótulos dos meses e rotacionar meses no gráfico\n",
    "plt.legend()\n",
    "\n",
    "plt.show()\n"
   ]
  },
  {
   "cell_type": "code",
   "execution_count": 29,
   "metadata": {
    "id": "9sCQ1lP8uj8u"
   },
   "outputs": [
    {
     "data": {
      "image/png": "[encoded data removed]",
      "text/plain": [
       "<Figure size 640x480 with 1 Axes>"
      ]
     },
     "metadata": {},
     "output_type": "display_data"
    }
   ],
   "source": [
    "# Compare o número de minutos de que os usuários de cada plano necessitam a cada mês. Construa um histograma.\n",
    "surf_data = merged_data[merged_data['plan'] == 'surf'] #separar informações somente do plano surf\n",
    "ultimate_data = merged_data[merged_data['plan'] == 'ultimate'] #separar informações somente do plano ultimate\n",
    "\n",
    "# Plotar histogramas com legendas\n",
    "plt.hist(surf_data['duration'], bins=10, alpha=0.7, label='Surf')\n",
    "plt.hist(ultimate_data['duration'], bins=10, alpha=0.7, label='Ultimate')\n",
    "\n",
    "plt.xlabel('Duração')\n",
    "plt.ylabel('Frequência')\n",
    "plt.title('Histograma de Duração')\n",
    "plt.legend()\n",
    "\n",
    "plt.show()"
   ]
  },
  {
   "cell_type": "markdown",
   "metadata": {
    "id": "_x1pRDFtuj8u"
   },
   "source": [
    "[Calcule a média e a variável da duração da chamada para raciocinar se os usuários de diferentes planos possuem comportamentos diferentes em suas chamadas.]"
   ]
  },
  {
   "cell_type": "code",
   "execution_count": 30,
   "metadata": {
    "id": "cIdodPExuj8u"
   },
   "outputs": [
    {
     "data": {
      "image/png": "[encoded data removed]",
      "text/plain": [
       "<Figure size 640x480 with 1 Axes>"
      ]
     },
     "metadata": {},
     "output_type": "display_data"
    },
    {
     "name": "stdout",
     "output_type": "stream",
     "text": [
      "Média da duração mensal das chamadas (Surf): 437.0\n",
      "Média da duração mensal das chamadas (Ultimate): 435.0\n",
      "\n",
      "Variação da duração mensal das chamadas (Surf): 2402963284.9924245\n",
      "Variação da duração mensal das chamadas (ultimate): 521959518.54545456\n",
      "\n",
      "Desvio padrão da duração mensal das chamadas (Surf): 49020.029426678484\n",
      "Desvio padrão da duração mensal das chamadas (Ultimate): 22846.433387849724\n"
     ]
    }
   ],
   "source": [
    "# Calcule a média e a variação da duração mensal das chamadas\n",
    "mean_surf = round(surf_data['duration'].mean(), 0)  #arredonda para nenhuma casa decimal\n",
    "mean_ultimate = round(ultimate_data['duration'].mean(), 0) #arredonda para nenhuma casa decimal\n",
    " \n",
    "# Plotar histogramas com legendas\n",
    "plt.hist(surf_data['duration'], bins=10, alpha=0.7, label='Surf')\n",
    "plt.hist(ultimate_data['duration'], bins=10, alpha=0.7, label='Ultimate')\n",
    "\n",
    "# Adicionar legendas e rótulos aos eixos\n",
    "plt.xlabel('Duração')\n",
    "plt.ylabel('Frequência')\n",
    "plt.title('Histograma de Duração')\n",
    "\n",
    "plt.axvline(mean_surf, color='blue', linestyle='dashed', linewidth=2, label='Média Surf')\n",
    "plt.axvline(mean_ultimate, color='orange', linestyle='dashed', linewidth=2, label='Média Ultimate')\n",
    "plt.legend()\n",
    "\n",
    "plt.show()\n",
    "\n",
    "####\n",
    "\n",
    "sum_duration_surf = surf_data.groupby('month')['duration'].sum().reset_index() #agrupar por mês e somar a duração de chamadas no plano surf\n",
    "sum_duration_ultimate = ultimate_data.groupby('month')['duration'].sum().reset_index() #agrupar por mês e somar a duração de chamadas no plano ultimate\n",
    "\n",
    "# Imprimir médias\n",
    "print(f\"Média da duração mensal das chamadas (Surf): {mean_surf}\")\n",
    "print(f\"Média da duração mensal das chamadas (Ultimate): {mean_ultimate}\")\n",
    "print()\n",
    "\n",
    "# Calcular a variação mensal\n",
    "var_duration_surf = sum_duration_surf['duration'].var()\n",
    "var_duration_ultimate = sum_duration_ultimate['duration'].var()\n",
    "\n",
    "# Exibir o resultado\n",
    "print(f\"Variação da duração mensal das chamadas (Surf): {var_duration_surf}\")\n",
    "print(f\"Variação da duração mensal das chamadas (ultimate): {var_duration_ultimate}\")\n",
    "print()\n",
    "\n",
    "# Calcular o desvio padrão\n",
    "std_deviation_surf = np.sqrt(var_duration_surf)\n",
    "std_deviation_ultimate = np.sqrt(var_duration_ultimate)\n",
    "\n",
    "# Exibir os resultados\n",
    "print(f\"Desvio padrão da duração mensal das chamadas (Surf): {std_deviation_surf}\")\n",
    "print(f\"Desvio padrão da duração mensal das chamadas (Ultimate): {std_deviation_ultimate}\")"
   ]
  },
  {
   "cell_type": "markdown",
   "metadata": {},
   "source": [
    "<div class=\"alert alert-block alert-success\">\n",
    "<b> Comentário do revisor: </b> <a class=\"tocSkip\"></a>\n",
    "    \n",
    "- A duração média das chamadas foi comparada entre os planos\n",
    "- As distribuições foram analisadas\n",
    "- Estatísticas descritivas foram calculadas: média, variância e desvio padrão\n",
    "</div>\n"
   ]
  },
  {
   "cell_type": "code",
   "execution_count": 31,
   "metadata": {
    "id": "DW7vTypxuj8u"
   },
   "outputs": [
    {
     "data": {
      "image/png": "[encoded data removed]",
      "text/plain": [
       "<Figure size 1000x600 with 1 Axes>"
      ]
     },
     "metadata": {},
     "output_type": "display_data"
    }
   ],
   "source": [
    "# Faça um diagrama de caixa para visualizar a distribuição da duração mensal das chamadas\n",
    "data_to_plot = [sum_duration_surf['duration'], sum_duration_ultimate['duration']]\n",
    "\n",
    "colors = ['lightblue', 'orange']  #escolha de cores para cada categoria\n",
    "boxprops = dict(linewidth=2, color='black')  #propriedades da caixa\n",
    "\n",
    "# Plotar o boxplot \n",
    "plt.figure(figsize=(10, 6))\n",
    "boxplot = plt.boxplot(data_to_plot, labels=['Surf', 'Ultimate'], boxprops=boxprops, patch_artist=True)\n",
    "\n",
    "# Adicionar cores às caixas com transparência\n",
    "for box, color in zip(boxplot['boxes'], colors):\n",
    "    box.set_facecolor(color)\n",
    "    \n",
    "\n",
    "plt.title('Distribuição da Duração Mensal das Chamadas')\n",
    "plt.xlabel('Categoria de Plano')\n",
    "plt.ylabel('Duração Mensal das Chamadas')\n",
    "plt.show()\n",
    "\n"
   ]
  },
  {
   "cell_type": "markdown",
   "metadata": {
    "id": "Uyt3rWn7uj8u"
   },
   "source": [
    "A variação mensal da duração das chamadas para os planos \"Surf\" e \"Ultimate\" indica a dispersão ou a diferença entre os valores mensais de duração das chamadas em cada plano. Esses valores indicam o quanto os dados estão dispersos em relação à média. Valores de variância mais altos sugerem uma maior dispersão dos dados, enquanto valores menores indicam uma menor dispersão. Para ter uma ideia mais clara da escala das variações, consideramos calcular o desvio padrão, que é a raiz quadrada da variância. O desvio padrão fornece uma medida de dispersão em uma escala semelhante à dos dados originais.\n",
    "\n",
    "as informações de variância, desvio padrão e plotagem gráfica indicam que há uma disperção maior que o dobro no plano `surf` comparado ao plano `ultimate`.\n",
    "\n",
    "* Desvio padrão da duração mensal das chamadas (Surf): 49020\n",
    "* Desvio padrão da duração mensal das chamadas (Ultimate): 22846"
   ]
  },
  {
   "cell_type": "markdown",
   "metadata": {},
   "source": [
    "<div class=\"alert alert-block alert-success\">\n",
    "<b> Comentário do revisor: </b> <a class=\"tocSkip\"></a>\n",
    "    \n",
    "- O gráfico de caixa foi apresentado por plano\n",
    "- Conclusões foram apresentadas\n",
    "</div>\n"
   ]
  },
  {
   "cell_type": "markdown",
   "metadata": {
    "id": "2hWSPtrnuj8v"
   },
   "source": [
    "### Mensagens"
   ]
  },
  {
   "cell_type": "code",
   "execution_count": 32,
   "metadata": {
    "id": "9kPlAhOJuj8v"
   },
   "outputs": [
    {
     "data": {
      "image/png": "[encoded data removed]",
      "text/plain": [
       "<Figure size 640x480 with 1 Axes>"
      ]
     },
     "metadata": {},
     "output_type": "display_data"
    },
    {
     "name": "stdout",
     "output_type": "stream",
     "text": [
      "Média da mensagens enviadas por mês (Surf): 31.0\n",
      "Média da mensagens enviadas por mês (Ultimate): 38.0\n",
      "\n",
      "Variância das mensagens enviadas por mês (Surf): 1126.0082317266633\n",
      "Variância das mensagens enviadas por mês (Ultimate): 1207.0779147376504\n",
      "\n",
      "Desvio padrão das mensagens enviadas por mês (Surf): 33.55604612773477\n",
      "Desvio padrão das mensagens enviadas por mês (Ultimate): 34.74302685054442\n"
     ]
    }
   ],
   "source": [
    "# Compare o número de mensagens que os usuários de cada plano tendem a enviar a cada mês\n",
    "surf_msg = merged_data[merged_data['plan'] == 'surf']\n",
    "ultimate_msg = merged_data[merged_data['plan'] == 'ultimate']\n",
    "\n",
    "# Plotar histogramas com legendas\n",
    "plt.hist(surf_data['total_msg'], bins=10, alpha=0.7, label='Surf')\n",
    "plt.hist(ultimate_data['total_msg'], bins=10, alpha=0.7, label='Ultimate')\n",
    "\n",
    "# Adicionar legendas e rótulos aos eixos\n",
    "plt.xlabel('Mensagens')\n",
    "plt.ylabel('Frequência')\n",
    "plt.title('Histograma de Mensagens')\n",
    "\n",
    "mean_surf_msg = round(surf_msg['total_msg'].mean(), 0)  #arredonda para nenhuma casa decimal\n",
    "mean_ultimate_msg = round(ultimate_data['total_msg'].mean(), 0) #arredonda para nenhuma casa decimal\n",
    "\n",
    "plt.axvline(mean_surf_msg, color='blue', linestyle='dashed', linewidth=2, label='Média Surf')\n",
    "plt.axvline(mean_ultimate_msg, color='orange', linestyle='dashed', linewidth=2, label='Média Ultimate')\n",
    "\n",
    "\n",
    "# Exibir a legenda\n",
    "plt.legend()\n",
    "\n",
    "# Exibir o gráfico\n",
    "plt.show()\n",
    "\n",
    "print(f\"Média da mensagens enviadas por mês (Surf): {mean_surf_msg}\")\n",
    "print(f\"Média da mensagens enviadas por mês (Ultimate): {mean_ultimate_msg}\")\n",
    "print()\n",
    "\n",
    "# Calcular a variância e o desvio padrão\n",
    "variance_surf_msg = np.var(surf_msg['total_msg'])\n",
    "std_deviation_surf_msg = np.std(surf_msg['total_msg'])\n",
    "\n",
    "variance_ultimate_msg = np.var(ultimate_msg['total_msg'])\n",
    "std_deviation_ultimate_msg = np.std(ultimate_msg['total_msg'])\n",
    "\n",
    "print(f\"Variância das mensagens enviadas por mês (Surf): {variance_surf_msg}\")\n",
    "print(f\"Variância das mensagens enviadas por mês (Ultimate): {variance_ultimate_msg}\")\n",
    "print()\n",
    "print(f\"Desvio padrão das mensagens enviadas por mês (Surf): {std_deviation_surf_msg}\")\n",
    "print(f\"Desvio padrão das mensagens enviadas por mês (Ultimate): {std_deviation_ultimate_msg}\")\n"
   ]
  },
  {
   "cell_type": "code",
   "execution_count": 33,
   "metadata": {
    "id": "fIVdRuT6uj8v"
   },
   "outputs": [
    {
     "data": {
      "image/png": "[encoded data removed]",
      "text/plain": [
       "<Figure size 640x480 with 1 Axes>"
      ]
     },
     "metadata": {},
     "output_type": "display_data"
    },
    {
     "name": "stdout",
     "output_type": "stream",
     "text": [
      "Média datráfego de dados por mês (Surf): 17.0\n",
      "Média datráfego de dados por mês (Ultimate): 17.0\n",
      "\n",
      "Variância do rnd_gb_per_month_used (Surf): 59.435560962426884\n",
      "Variância do rnd_gb_per_month_used (Ultimate): 58.41337741144886\n",
      "\n",
      "Desvio padrão do rnd_gb_per_month_used (Surf): 7.709446216326234\n",
      "Desvio padrão do rnd_gb_per_month_used (Ultimate): 7.642864476846941\n"
     ]
    }
   ],
   "source": [
    "# Compare a quantidade de tráfego de internet consumido pelos usuários por plano\n",
    "surf_gb = merged_data[merged_data['plan'] == 'surf']\n",
    "ultimate_gb = merged_data[merged_data['plan'] == 'ultimate']\n",
    "\n",
    "# Plotar histogramas com legendas\n",
    "plt.hist(surf_gb['rnd_gb_per_month_used'], bins=10, alpha=0.7, label='Surf')\n",
    "plt.hist(ultimate_gb['rnd_gb_per_month_used'], bins=10, alpha=0.7, label='Ultimate')\n",
    "\n",
    "# Adicionar legendas e rótulos aos eixos\n",
    "plt.xlabel('Tráfego (GB)')\n",
    "plt.ylabel('Frequência')\n",
    "plt.title('Histograma de Tráfego')\n",
    "\n",
    "mean_surf_gb = round(surf_gb['rnd_gb_per_month_used'].mean(), 0)  #arredonda para nenhuma casa decimal\n",
    "mean_ultimate_gb = round(ultimate_gb['rnd_gb_per_month_used'].mean(), 0) #arredonda para nenhuma casa decimal\n",
    "\n",
    "plt.axvline(mean_surf_gb, color='blue', linestyle='dashed', linewidth=2, label='Média Surf')\n",
    "plt.axvline(mean_ultimate_gb, color='orange', linestyle='dashed', linewidth=2, label='Média Ultimate')\n",
    "plt.legend()\n",
    "\n",
    "plt.show()\n",
    "\n",
    "print(f\"Média datráfego de dados por mês (Surf): {mean_surf_gb}\")\n",
    "print(f\"Média datráfego de dados por mês (Ultimate): {mean_ultimate_gb}\")\n",
    "print()\n",
    "\n",
    "# Calcular a variância e o desvio padrão\n",
    "variance_surf_gb = np.var(surf_gb['rnd_gb_per_month_used'])\n",
    "std_deviation_surf_gb = np.std(surf_gb['rnd_gb_per_month_used'])\n",
    "\n",
    "variance_ultimate_gb = np.var(ultimate_gb['rnd_gb_per_month_used'])\n",
    "std_deviation_ultimate_gb = np.std(ultimate_gb['rnd_gb_per_month_used'])\n",
    "\n",
    "print(f\"Variância do rnd_gb_per_month_used (Surf): {variance_surf_gb}\")\n",
    "print(f\"Variância do rnd_gb_per_month_used (Ultimate): {variance_ultimate_gb}\")\n",
    "print()\n",
    "print(f\"Desvio padrão do rnd_gb_per_month_used (Surf): {std_deviation_surf_gb}\")\n",
    "print(f\"Desvio padrão do rnd_gb_per_month_used (Ultimate): {std_deviation_ultimate_gb}\")"
   ]
  },
  {
   "cell_type": "markdown",
   "metadata": {
    "id": "v6QELMtcuj8v"
   },
   "source": [
    "* Mensagens:\n",
    "\n",
    "Essas médias sugerem que Os usuários do plano \"Ultimate\" enviam mais mensagens por mês em comparação com os usuários do plano \"Surf\". Essa diferença pode ser devido a vários fatores, como a inclusão de mais recursos ou benefícios no plano \"Ultimate\" que incentivam os usuários a usar mais os serviços de mensagens.\n",
    "\n",
    "No entanto, é importante notar que as médias não fornecem informações sobre a dispersão dos dados ou sobre possíveis valores extremos. Para obter uma compreensão mais completa do comportamento dos usuários em relação às mensagens, analisamos a variabilidade dos dados usando medidas como a variância e o desvio padrão.\n",
    "\n",
    "O desvio padrão do plano \"Ultimate\" é um pouco maior, sugerindo uma maior dispersão nos dados em comparação com o plano \"Surf\". Isso significa que, em geral, as mensagens enviadas por mês no plano \"Ultimate\" podem variar pouca coisa a mais em relação à média do que as mensagens no plano \"Surf\"."
   ]
  },
  {
   "cell_type": "markdown",
   "metadata": {},
   "source": [
    "<div class=\"alert alert-block alert-success\">\n",
    "<b> Comentário do revisor: </b> <a class=\"tocSkip\"></a>\n",
    "    \n",
    "- A distribuição do número de mensagens foi analisada\n",
    "- As conclusões foram apresentadas\n",
    "</div>\n"
   ]
  },
  {
   "cell_type": "markdown",
   "metadata": {
    "id": "nHUCwAnauj8w"
   },
   "source": [
    "### Internet"
   ]
  },
  {
   "cell_type": "markdown",
   "metadata": {
    "id": "GsHkFpGmuj8w"
   },
   "source": [
    "* Dados:\n",
    "\n",
    "As médias são idênticas para ambos os planos. Isso sugere que, em média, os usuários de ambos os planos consomem uma quantidade semelhante de tráfego de dados por mês. Não há diferença média entre os dois planos em termos de tráfego de dados.\n",
    "\n",
    "Essa conclusão é baseada apenas nas médias e não leva em consideração a variação nos dados. Consideramos calcular a variância e o desvio padrão para entender a dispersão dos valores de tráfego de dados e obter uma visão mais completa do comportamento dos usuários em relação ao consumo de dados.\n",
    "\n",
    "Em geral, as métricas sugerem que os planos \"Surf\" e \"Ultimate\" têm uma variação semelhante nos dados do uso mensal de gigabytes, com desvios padrão relativamente próximos. Isso pode ser útil para compreender a consistência ou variabilidade nos padrões de uso mensal de dados em cada plano."
   ]
  },
  {
   "cell_type": "markdown",
   "metadata": {
    "id": "g23qXaYNuj8x"
   },
   "source": [
    "## Receita"
   ]
  },
  {
   "cell_type": "markdown",
   "metadata": {
    "id": "qI9oKXFZuj8y"
   },
   "source": [
    "[Da mesma forma que você estudou o comportamento dos usuários, descreva estatisticamente as receitas dos planos.]"
   ]
  },
  {
   "cell_type": "code",
   "execution_count": 34,
   "metadata": {
    "id": "CGuBwYRyuj8y"
   },
   "outputs": [
    {
     "data": {
      "image/png": "[encoded data removed]",
      "text/plain": [
       "<Figure size 640x480 with 1 Axes>"
      ]
     },
     "metadata": {},
     "output_type": "display_data"
    }
   ],
   "source": [
    "surf_pay = merged_data[merged_data['plan'] == 'surf']\n",
    "ultimate_pay = merged_data[merged_data['plan'] == 'ultimate']\n",
    "\n",
    "# Plotar histogramas com legendas\n",
    "plt.hist(surf_pay['total_pay'], bins=10, alpha=0.7, label='Surf')\n",
    "plt.hist(ultimate_pay['total_pay'], bins=10, alpha=0.7, label='Ultimate')\n",
    "\n",
    "# Adicionar legendas e rótulos aos eixos\n",
    "plt.xlabel('Total Pago')\n",
    "plt.ylabel('Frequência')\n",
    "plt.title('Histograma Valor Pago')\n",
    "\n",
    "mean_surf_pay = round(surf_pay['total_pay'].mean(), 0)  #arredonda para nenhuma casa decimal\n",
    "mean_ultimate_pay = round(ultimate_pay['total_pay'].mean(), 0) #arredonda para nenhuma casa decimal\n",
    "\n",
    "plt.axvline(mean_surf_pay, color='blue', linestyle='dashed', linewidth=2, label='Média Surf')\n",
    "plt.axvline(mean_ultimate_pay, color='orange', linestyle='dashed', linewidth=2, label='Média Ultimate')\n",
    "plt.legend()\n",
    "\n",
    "plt.show()"
   ]
  },
  {
   "cell_type": "code",
   "execution_count": 35,
   "metadata": {
    "id": "qJSyfvUguj8y"
   },
   "outputs": [],
   "source": [
    "pivot_table = pd.pivot_table(merged_data, values='total_pay', index=['month'], columns=['plan'], aggfunc='sum')\n",
    "\n",
    "# Resetar o índice da tabela dinâmica para evitar o erro\n",
    "pivot_table = pivot_table.reset_index()\n",
    "pivot_table = pivot_table.rename_axis(columns=None)\n",
    "\n",
    "month_mapping = {\n",
    "    1: 'Janeiro',\n",
    "    2: 'Fevereiro',\n",
    "    3: 'Março',\n",
    "    4: 'Abril',\n",
    "    5: 'Maio',\n",
    "    6: 'Junho',\n",
    "    7: 'Julho',\n",
    "    8: 'Agosto',\n",
    "    9: 'Setembro',\n",
    "    10: 'Outubro',\n",
    "    11: 'Novembro',\n",
    "    12: 'Dezembro'\n",
    "}\n",
    "\n",
    "\n",
    "\n",
    "# Mesclar a tabela dinâmica de volta ao DataFrame original com base em 'month'\n",
    "merged_total = pivot_table[['month', 'surf', 'ultimate']].rename(columns={'surf': 'surf_total', 'ultimate': 'ultimate_total'})\n",
    "\n",
    "merged_total['month'] = merged_total['month'].replace(month_mapping)\n",
    "\n",
    "total_soma_surf = round(merged_total['surf_total'].sum(), 0)\n",
    "total_soma_ultimate = round(merged_total['ultimate_total'].sum(), 0)"
   ]
  },
  {
   "cell_type": "code",
   "execution_count": 36,
   "metadata": {
    "id": "KUSxMW71uj8z"
   },
   "outputs": [
    {
     "data": {
      "image/png": "[encoded data removed]",
      "text/plain": [
       "<Figure size 1200x800 with 1 Axes>"
      ]
     },
     "metadata": {},
     "output_type": "display_data"
    },
    {
     "data": {
      "image/png": "[encoded data removed]",
      "text/plain": [
       "<Figure size 1000x600 with 1 Axes>"
      ]
     },
     "metadata": {},
     "output_type": "display_data"
    },
    {
     "name": "stdout",
     "output_type": "stream",
     "text": [
      "Receita total plano Surf: 101571.0\n",
      "Receita total plano Ultimate: 52304.0\n",
      "\n",
      "Média valores pagos por mês (Surf): 65.0\n",
      "Média valores pagos por mês (Ultimate): 73.0\n",
      "\n",
      "Variância do total_payment (Surf): 3696.906054863994\n",
      "Variância do total_payment (Ultimate): 169.36246913580166\n",
      "\n",
      "Desvio padrão do total_payment (Surf): 60.80218791181773\n",
      "Desvio padrão do total_payment (Ultimate): 13.01393365342707\n"
     ]
    }
   ],
   "source": [
    "months = merged_total['month']\n",
    "surf_totals = merged_total['surf_total']\n",
    "ultimate_totals = merged_total['ultimate_total']\n",
    "\n",
    "plt.figure(figsize=(12, 8))\n",
    "\n",
    "# Configurar a largura das barras\n",
    "bar_width = 0.35\n",
    "\n",
    "# Configurar a posição das barras no eixo x\n",
    "r1 = range(len(months))\n",
    "r2 = [x + bar_width for x in r1]\n",
    "\n",
    "# Criar o gráfico de barras lado a lado\n",
    "plt.bar(r1, surf_totals, color='blue', width=bar_width, edgecolor='grey', label='Surf Total')\n",
    "plt.bar(r2, ultimate_totals, color='orange', width=bar_width, edgecolor='grey', label='Ultimate Total')\n",
    "\n",
    "# Adicionar rótulos e título\n",
    "plt.xlabel('Mês')\n",
    "plt.ylabel('Receita')\n",
    "plt.title('Total de Receita por Plano')\n",
    "plt.xticks([r + bar_width/2 for r in range(len(months))], months, rotation=45, ha='right')\n",
    "\n",
    "\n",
    "# Adicionar a legenda\n",
    "plt.legend()\n",
    "\n",
    "# Mostrar o gráfico\n",
    "plt.show()\n",
    "\n",
    "planos = ['Surf', 'Ultimate']\n",
    "receitas_totais = [total_soma_surf, total_soma_ultimate]\n",
    "\n",
    "# Criando um gráfico de barras simples\n",
    "plt.figure(figsize=(10, 6))\n",
    "plt.bar(planos, receitas_totais, color=['blue', 'orange'])\n",
    "plt.title('Receita Total por Plano')\n",
    "plt.xlabel('Plano')\n",
    "plt.ylabel('Receita Total')\n",
    "plt.show()\n",
    "\n",
    "print('Receita total plano Surf:', total_soma_surf)\n",
    "print('Receita total plano Ultimate:', total_soma_ultimate)\n",
    "print()\n",
    "\n",
    "# Calcular a média\n",
    "print(f\"Média valores pagos por mês (Surf): {mean_surf_pay}\")\n",
    "print(f\"Média valores pagos por mês (Ultimate): {mean_ultimate_pay}\")\n",
    "print()\n",
    "# Calcular a variância e o desvio padrão\n",
    "variance_surf_pay = np.var(surf_pay['total_pay'])\n",
    "std_deviation_surf_pay = np.std(surf_pay['total_pay'])\n",
    "\n",
    "variance_ultimate_pay = np.var(ultimate_pay['total_pay'])\n",
    "std_deviation_ultimate_pay = np.std(ultimate_pay['total_pay'])\n",
    "\n",
    "print(f\"Variância do total_payment (Surf): {variance_surf_pay}\")\n",
    "print(f\"Variância do total_payment (Ultimate): {variance_ultimate_pay}\")\n",
    "print()\n",
    "print(f\"Desvio padrão do total_payment (Surf): {std_deviation_surf_pay}\")\n",
    "print(f\"Desvio padrão do total_payment (Ultimate): {std_deviation_ultimate_pay}\")"
   ]
  },
  {
   "cell_type": "markdown",
   "metadata": {
    "id": "6X34EwHpuj8z"
   },
   "source": [
    "O plano \"Surf\" gera uma receita total mais alta em comparação com o plano \"Ultimate\".\n",
    "\n",
    "A média dos valores pagos por mês é mais baixa para o plano \"Surf\" em comparação com o plano \"Ultimate\".\n",
    "\n",
    "A variância e o desvio padrão indicam uma maior dispersão nos valores pagos por mês para o plano \"Surf\", sugerindo uma maior variabilidade nos pagamentos. Para o plano \"Ultimate\", a variabilidade é menor, indicando pagamentos mais consistentes ao longo do tempo."
   ]
  },
  {
   "cell_type": "markdown",
   "metadata": {},
   "source": [
    "<div class=\"alert alert-block alert-success\">\n",
    "<b> Comentário do revisor: </b> <a class=\"tocSkip\"></a>\n",
    "    \n",
    "- A distribuição da receita por plano foi analisada\n",
    "- As estatísticas foram calculadas\n",
    "- As conclusões foram apresentadas\n",
    "</div>\n"
   ]
  },
  {
   "cell_type": "markdown",
   "metadata": {
    "id": "xJ6Mu-KAuj8z"
   },
   "source": [
    "## Teste hipóteses estatísticas"
   ]
  },
  {
   "cell_type": "markdown",
   "metadata": {
    "id": "-X2l1R8Luj80"
   },
   "source": [
    "A hipótese nula afirma que não há diferença significativa entre as médias dos pagamentos para os planos \"Surf\" e \"Ultimate\". \n",
    "\n",
    "A hipótese alternativa sugere que existe uma diferença significativa entre as médias dos pagamentos para os planos \"Surf\" e \"Ultimate\".\n",
    "\n",
    "No final do código,  é realizado o teste t para testar a igualdade das médias. Se o valor-p resultante for menor que o nível de significância alfa (definido em 0,05), a hipótese nula será rejeitada em favor da hipótese alternativa. Caso contrário, não há evidências suficientes para rejeitar a hipótese nula.\n",
    "\n",
    "Esta interpretação assume que estamos realizando um teste de duas amostras independentes para comparar as médias dos pagamentos entre os planos \"Surf\" e \"Ultimate\"."
   ]
  },
  {
   "cell_type": "markdown",
   "metadata": {},
   "source": [
    "<div class=\"alert alert-block alert-info\">\n",
    "<b>Resposta do Aluno.</b> <a class=\"tocSkip\"></a>\n",
    "    \n",
    "* Definição formal das hipóteses foram descritas acima.\n",
    "</div>"
   ]
  },
  {
   "cell_type": "code",
   "execution_count": 37,
   "metadata": {
    "id": "LyGrPhpUuj80"
   },
   "outputs": [
    {
     "data": {
      "image/png": "[encoded data removed]",
      "text/plain": [
       "<Figure size 640x480 with 1 Axes>"
      ]
     },
     "metadata": {},
     "output_type": "display_data"
    },
    {
     "name": "stdout",
     "output_type": "stream",
     "text": [
      "Rejeitar Hipótese Nula:\n",
      "A receita média difere entre os planos \"Surf\" e \"Ultimate\".\n",
      "\n",
      "Test Statistic: -5.018842122902009\n",
      "Valor-p: 5.693922533781941e-07\n"
     ]
    }
   ],
   "source": [
    "# Teste as hipóteses\n",
    "surf_pay = merged_data[merged_data['plan'] == 'surf']['total_pay']\n",
    "ultimate_pay = merged_data[merged_data['plan'] == 'ultimate']['total_pay']\n",
    "\n",
    "categories = ['Média Surf', 'Média Ultimate']\n",
    "\n",
    "# Valores para os eixos y\n",
    "values = [mean_surf_pay, mean_ultimate_pay]\n",
    "\n",
    "# Criar o gráfico de barra\n",
    "plt.bar(categories, values, color=['blue', 'orange'])\n",
    "\n",
    "# Adicionar rótulos\n",
    "plt.xlabel('Plano')\n",
    "plt.ylabel('Média de Pagamento')\n",
    "plt.title('Média de pagamento dos planos Surf e Ultimate')\n",
    "\n",
    "# Exibir o gráfico\n",
    "plt.show()\n",
    "\n",
    "t_statistic, p_value = st.ttest_ind(surf_pay, ultimate_pay, equal_var=False)\n",
    "\n",
    "# Escolha o valor alfa (nível de significância)\n",
    "alfa = 0.05\n",
    "\n",
    "# Compare o valor-p com o valor alfa\n",
    "if p_value < alfa:\n",
    "    print(f'Rejeitar Hipótese Nula:\\nA receita média difere entre os planos \"Surf\" e \"Ultimate\".')\n",
    "else:\n",
    "    print(f'Não há evidências para rejeitar Hipótese Nula:\\nA receita média é igual entre os planos \"Surf\" e \"Ultimate\".')\n",
    "print()\n",
    "# Exibir os resultados do teste\n",
    "print(f'Test Statistic: {t_statistic}')\n",
    "print(f'Valor-p: {p_value}')"
   ]
  },
  {
   "cell_type": "markdown",
   "metadata": {},
   "source": [
    "<div class=\"alert alert-block alert-success\">\n",
    "<b> Comentário do revisor: </b> <a class=\"tocSkip\"></a>\n",
    "    \n",
    "- O valor de alpha foi definido\n",
    "- Os testes foram conduzidos\n",
    "- Os resultados foram interpretados\n",
    "- O argumento `equal_var` foi configurado para conduzir o teste assumindo diferença nas variâncias.\n",
    "</div>\n"
   ]
  },
  {
   "cell_type": "markdown",
   "metadata": {
    "id": "kMHim5__uj80"
   },
   "source": [
    "Para uma hipótese nula afimra que não há diferença significativa na média de pagamento entre a área \"NY-NJ\" (New York-Newark-Jersey City, NY-NJ-PA MSA) e outras cidades.\n",
    "\n",
    "Já a hipótese alternativa nos diz que há uma diferença significativa na média de pagamento entre a área \"NY-NJ\" e outras cidades.\n",
    "\n",
    "Essas hipóteses são baseadas na análise de um teste t independente, que compara as médias de pagamento entre dois grupos distintos (no caso, \"NY-NJ\" e outras cidades). O teste estatístico e o p-valor são utilizados para avaliar se há evidências estatísticas suficientes para rejeitar a hipótese nula em favor da hipótese alternativa. O nível de significância (alfa) escolhido para este teste é 0.05. Se o p-valor for menor que alfa, a hipótese nula é rejeitada, indicando que há uma diferença significativa nas médias de pagamento entre os dois grupos."
   ]
  },
  {
   "cell_type": "markdown",
   "metadata": {},
   "source": [
    "<div class=\"alert alert-block alert-info\">\n",
    "<b>Resposta do Aluno.</b> <a class=\"tocSkip\"></a>\n",
    "    \n",
    "* Definição formal das hipóteses foram descritas acima.\n",
    "</div>"
   ]
  },
  {
   "cell_type": "code",
   "execution_count": 38,
   "metadata": {
    "id": "98t8iiJyuj80"
   },
   "outputs": [
    {
     "name": "stdout",
     "output_type": "stream",
     "text": [
      "média NY-NJ: 63.0\n",
      "média outras cidades: 68.0\n"
     ]
    },
    {
     "data": {
      "image/png": "[encoded data removed]",
      "text/plain": [
       "<Figure size 640x480 with 1 Axes>"
      ]
     },
     "metadata": {},
     "output_type": "display_data"
    },
    {
     "name": "stdout",
     "output_type": "stream",
     "text": [
      "Não há evidências para rejeitar Hipótese Nula:\n",
      "A média de pagamento é semelhante entre a área \"NY-NJ\" e outras cidades.\n",
      "\n",
      "Test Statistic: -1.829772124896852\n",
      "p-value: 0.0678114401248752\n"
     ]
    }
   ],
   "source": [
    "# Teste as hipóteses\n",
    "from scipy import stats\n",
    "merged_data = pd.merge(merged_data, df_users[['user_id', 'city']], on='user_id', how='left')\n",
    "\n",
    "avg_ny_nj = round(merged_data.loc[merged_data['city'] == 'New York-Newark-Jersey City, NY-NJ-PA MSA', 'total_pay'].mean(), 0)\n",
    "avg_other_cities = round(merged_data.loc[merged_data['city'] != 'New York-Newark-Jersey City, NY-NJ-PA MSA', 'total_pay'].mean(), 0)\n",
    "\n",
    "print('média NY-NJ:', avg_ny_nj)\n",
    "print('média outras cidades:', avg_other_cities)\n",
    "\n",
    "categories = ['NY-NJ', 'Outras Cidades']\n",
    "\n",
    "\n",
    "# Valores para os eixos y\n",
    "values = [avg_ny_nj, avg_other_cities]\n",
    "\n",
    "# Criar o gráfico de barra\n",
    "plt.bar(categories, values, color=['lightcoral', 'lightGreen'])\n",
    "\n",
    "# Adicionar rótulos\n",
    "plt.xlabel('Plano')\n",
    "plt.ylabel('Média de Pagamento')\n",
    "plt.title('Média de pagamento - NY-NJ x Outras Cidades')\n",
    "\n",
    "# Exibir o gráfico\n",
    "plt.show()\n",
    "\n",
    "# Realizar o teste t independente\n",
    "t_statistic, p_value = stats.ttest_ind(\n",
    "    merged_data.loc[merged_data['city'] == 'New York-Newark-Jersey City, NY-NJ-PA MSA', 'total_pay'],\n",
    "    merged_data.loc[merged_data['city'] != 'New York-Newark-Jersey City, NY-NJ-PA MSA', 'total_pay'],\n",
    "    equal_var=False\n",
    ")\n",
    "\n",
    "# Escolher o valor alfa (nível de significância)\n",
    "alfa = 0.05\n",
    "\n",
    "# Comparar o valor-p com o valor alfa\n",
    "if p_value < alfa:\n",
    "    print('Rejeitar Hipótese Nula:\\nA média de pagamento difere entre a área \"NY-NJ\" e outras cidades.')\n",
    "else:\n",
    "    print('Não há evidências para rejeitar Hipótese Nula:\\nA média de pagamento é semelhante entre a área \"NY-NJ\" e outras cidades.')\n",
    "\n",
    "print()\n",
    "    \n",
    "# Imprimir os resultados do teste\n",
    "print(f'Test Statistic: {t_statistic}')\n",
    "print(f'p-value: {p_value}')"
   ]
  },
  {
   "cell_type": "markdown",
   "metadata": {},
   "source": [
    "<div class=\"alert alert-block alert-success\">\n",
    "<b> Comentário do revisor: </b> <a class=\"tocSkip\"></a>\n",
    "    \n",
    "- O valor de alpha foi definido\n",
    "- Os testes foram conduzidos\n",
    "- Os resultados foram interpretados\n",
    "- O argumento `equal_var` foi configurado para conduzir o teste assumindo diferença nas variâncias.\n",
    "</div>\n"
   ]
  },
  {
   "cell_type": "markdown",
   "metadata": {
    "id": "M8WycwWFuj81"
   },
   "source": [
    "## Conclusão geral\n",
    "\n",
    "* Duração das Chamadas:\n",
    "\n",
    "    A variação mensal da duração das chamadas indica que há mais dispersão nos dados do plano \"Surf\" em comparação com o plano \"Ultimate\". O desvio padrão no plano \"Surf\" é mais que o dobro do desvio padrão no plano \"Ultimate\". Isso sugere que os usuários do plano \"Surf\" têm uma maior variação nos minutos de chamadas mensais em relação à média do que os usuários do plano \"Ultimate\".\n",
    "    \n",
    "\n",
    "* Mensagens:\n",
    "\n",
    "    Os usuários do plano \"Ultimate\" enviam mais mensagens por mês em comparação com os usuários do plano \"Surf\". A variabilidade nas mensagens é um pouco maior no plano \"Ultimate\", indicando que os padrões de uso de mensagens podem variar um pouco mais em relação à média nesse plano.\n",
    "    \n",
    "\n",
    "* Dados:\n",
    "\n",
    "    As médias de tráfego de dados são idênticas para ambos os planos, mas a análise de variância e desvio padrão pode fornecer insights adicionais sobre a dispersão dos dados. Em geral, os planos \"Surf\" e \"Ultimate\" têm uma variação semelhante nos dados do uso mensal de gigabytes, com desvios padrão relativamente próximos.\n",
    "    \n",
    "\n",
    "* Receita:\n",
    "\n",
    "    O plano \"Surf\" gera uma receita total mais alta, mas a média dos valores pagos por mês é mais baixa em comparação com o plano \"Ultimate\". A variância e o desvio padrão indicam uma maior dispersão nos valores pagos por mês no plano \"Surf\", enquanto o plano \"Ultimate\" apresenta uma variabilidade menor, sugerindo pagamentos mais consistentes ao longo do tempo.\n",
    "\n",
    "    \n",
    "    \n",
    "* Conclusão\n",
    "\n",
    "\n",
    "    * Duração das Chamadas:\n",
    "    O plano \"Surf\" tem uma maior variação na duração das chamadas mensais em relação à média do que o plano \"Ultimate\".\n",
    "\n",
    "\n",
    "    * Mensagens:\n",
    "    Os usuários do plano \"Ultimate\" tendem a enviar mais mensagens, com uma variabilidade um pouco maior em relação à média, porém pouco significativa, demonstrando uma semelhança no envio de mansagens com usuários do plano 'surf'.\n",
    "\n",
    "\n",
    "    * Dados:\n",
    "    Não há diferença média significativa nas médias mensais de tráfego de dados entre os planos e a análise de variância e desvio padrão fornece informações sobre a dispersão dos dados também baixa.\n",
    "\n",
    "\n",
    "    * Receita:\n",
    "    Plano \"Surf\" gera mais receita total, mas os usuários do plano \"Ultimate\" pagam mais em média por mês. A variabilidade nos pagamentos é maior no plano \"Surf\".\n",
    "    \n",
    "    \n",
    "    \n",
    "\n",
    "* Com base nos resultados do teste estatístico:\n",
    "\n",
    "    Há evidências estatísticas suficientes para rejeitar a hipótese nula de que a receita média é a mesma nos planos \"Surf\" e \"Ultimate\".\n",
    "\n",
    "    A diferença nas médias é estatisticamente significativa.\n",
    "\n",
    "    Pode-se concluir que a receita média difere entre os planos \"Surf\" e \"Ultimate\". A análise sugere que a escolha do plano pode influenciar significativamente a receita média.\n",
    "\n",
    "No geral, a escolha entre os planos pode depender das preferências do usuário em termos de uso de chamadas, mensagens, dados e do valor que estão dispostos a pagar. Os planos têm características distintas em relação à variabilidade de uso e custos associados.\n",
    "\n",
    "Uma boa estratégia de marketing pode ser desenvolvida considerando as características específicas dos planos \"Surf\" e \"Ultimate\", bem como os dados e padrões de uso dos clientes. \n",
    "\n",
    "1 - Segmentação de Mercado:\n",
    "\n",
    "    Analisar os dados dos usuários atuais para identificar grupos específicos de clientes com diferentes padrões de uso. Isso permite uma segmentação eficaz do mercado, possibilitando a criação de campanhas personalizadas, como fizemos comparando entre NY-NJ e as demais regiões.\n",
    "    \n",
    "2 - Comunicação Clara e Destaques de Benefícios:\n",
    "\n",
    "    Destacar claramente os benefícios exclusivos de cada plano em campanhas de marketing. Por exemplo, para o plano \"Surf\", destaque o preço acessível e a generosa quantidade de dados. Para o plano \"Ultimate\", destaque os minutos, mensagens e a alta quantidade de dados com taxas de uso excedente mais baixas.\n",
    "    \n",
    "3 - Ofertas e Promoções Personalizadas:\n",
    "\n",
    "    Criar ofertas e promoções personalizadas para cada plano, incentivando os usuários a migrarem para o plano que melhor atenda às suas necessidades. Por exemplo, ofereça descontos ou bônus para clientes que optarem por migrar do plano \"Surf\" para plano \"Ultimate\" durante um determinado período. Visto que, apesar de ter uma parcela no faturamento menor, o plano \"Ultimate\" possui uma média de pagamento maior e uma variabilidade de pagamento menor proporcionando um melhor planejamento operacional e financeiro futuro.\n",
    "    \n",
    "4 - Programas de Fidelidade:\n",
    "\n",
    "    Introduza programas de fidelidade que recompensam os clientes por sua lealdade. Isso pode incluir benefícios adicionais, descontos ou brindes exclusivos para clientes que permanecem no plano por um período prolongado. Quanto melhor o plano, melhor o programa de fidelidade.\n",
    "    \n",
    "5 - Feedback e Pesquisas de Satisfação:\n",
    "\n",
    "    Realize pesquisas de satisfação do cliente para entender melhor suas necessidades e expectativas. Use o feedback para ajustar os planos, serviços e estratégias de marketing conforme necessário.\n",
    "    \n",
    "6 - Monitoramento Contínuo dos dados e Ajustes:\n",
    "\n",
    "    Mantenha uma vigilância constante sobre os dados de uso, feedback do cliente e tendências de mercado. Faça ajustes na estratégia de marketing conforme necessário para permanecer relevante e atender às demandas do mercado.\n",
    "    \n",
    "    \n",
    "Estas são algumas conclusões e sugestões e aponto como destaque uma boa estratégia de marketing que incentive a migração dos clientes do plano \"surf\" para o plano \"Ultimate\"."
   ]
  },
  {
   "cell_type": "markdown",
   "metadata": {},
   "source": [
    "<div class=\"alert alert-block alert-success\">\n",
    "<b> Comentário do revisor: </b> <a class=\"tocSkip\"></a>\n",
    "    \n",
    "- Excelentes conclusões gerais!\n",
    "</div>\n"
   ]
  },
  {
   "cell_type": "markdown",
   "metadata": {},
   "source": [
    "<div class=\"alert alert-block alert-success\">\n",
    "<b> Comentário geral do revisor v1</b> <a class=\"tocSkip\"></a>\n",
    "\n",
    "Obrigado por enviar o seu projeto e pelo esforço de chegar até aqui. O seu projeto possui alguns pontos bem interessantes, dos quais eu destaco:\n",
    "    \n",
    "- Código bem simples e estruturado \n",
    "- Comentários sucintos e bem objetivos\n",
    "- Conclusões pertinentes em cada análise e etapa de avaliação\n",
    "- Análises bem detalhadas em cada etapa do projeto\n",
    "- Uso adequado de gráfico e estatísticas descritivas\n",
    "    \n",
    "**Até breve!**\n",
    "</s>\n",
    "</div>\n"
   ]
  },
  {
   "cell_type": "markdown",
   "metadata": {},
   "source": [
    "<div class=\"alert alert-block alert-success\">\n",
    "<b> Comentário geral do revisor v2</b> <a class=\"tocSkip\"></a>\n",
    "\n",
    "Obrigado por enviar o seu projeto e fazer os ajustes sugeridos. Essa versão do seu trabalho ficou muito melhor! Espero que as sugestões sejam relevantes para projetos futuros.\n",
    "    \n",
    "<br>\n",
    "Te desejo uma jornada de muito sucesso e aprendizado.\n",
    "    \n",
    "<br>   \n",
    "    \n",
    "Qualquer dúvida, pode contar comigo.   \n",
    "    \n",
    "<br>  \n",
    "    \n",
    "**Até breve!**\n",
    "\n",
    "</div>\n"
   ]
  },
  {
   "cell_type": "code",
   "execution_count": null,
   "metadata": {},
   "outputs": [],
   "source": []
  }
 ],
 "metadata": {
  "ExecuteTimeLog": [
   {
    "duration": 828,
    "start_time": "2021-11-16T09:21:11.304Z"
   },
   {
    "duration": 893,
    "start_time": "2021-11-16T09:21:17.728Z"
   },
   {
    "duration": 1150,
    "start_time": "2021-11-16T09:21:29.568Z"
   },
   {
    "duration": 3,
    "start_time": "2021-11-16T09:24:14.495Z"
   },
   {
    "duration": 120,
    "start_time": "2021-11-16T09:24:46.630Z"
   },
   {
    "duration": 3,
    "start_time": "2021-11-16T09:28:27.882Z"
   },
   {
    "duration": 4,
    "start_time": "2021-11-16T09:29:54.281Z"
   },
   {
    "duration": 3,
    "start_time": "2021-11-16T09:30:45.936Z"
   },
   {
    "duration": 4,
    "start_time": "2021-11-16T09:31:06.300Z"
   },
   {
    "duration": 113,
    "start_time": "2021-11-16T09:31:37.208Z"
   },
   {
    "duration": 143,
    "start_time": "2021-11-16T09:31:48.656Z"
   },
   {
    "duration": 98,
    "start_time": "2021-11-16T09:31:55.678Z"
   },
   {
    "duration": 3,
    "start_time": "2021-11-16T09:32:08.535Z"
   },
   {
    "duration": 111,
    "start_time": "2021-11-16T09:32:10.120Z"
   },
   {
    "duration": 3,
    "start_time": "2021-11-16T09:32:15.732Z"
   },
   {
    "duration": 4,
    "start_time": "2021-11-16T09:32:29.423Z"
   },
   {
    "duration": 3,
    "start_time": "2021-11-16T10:03:03.074Z"
   },
   {
    "duration": 3,
    "start_time": "2021-11-16T10:10:01.288Z"
   },
   {
    "duration": 3,
    "start_time": "2021-11-16T10:10:46.923Z"
   },
   {
    "duration": 121,
    "start_time": "2021-11-16T10:37:46.494Z"
   },
   {
    "duration": 125,
    "start_time": "2021-11-16T10:38:20.632Z"
   },
   {
    "duration": 112,
    "start_time": "2021-11-16T10:46:53.001Z"
   },
   {
    "duration": 110,
    "start_time": "2021-11-16T10:48:25.775Z"
   },
   {
    "duration": 3,
    "start_time": "2021-11-16T10:50:18.720Z"
   },
   {
    "duration": 4,
    "start_time": "2021-11-16T10:50:37.649Z"
   },
   {
    "duration": 2,
    "start_time": "2021-11-16T10:50:51.884Z"
   },
   {
    "duration": 3,
    "start_time": "2021-11-16T10:51:56.237Z"
   },
   {
    "duration": 101,
    "start_time": "2021-11-16T10:53:13.791Z"
   },
   {
    "duration": 3,
    "start_time": "2021-11-16T10:55:59.186Z"
   },
   {
    "duration": 3,
    "start_time": "2021-11-16T10:56:10.751Z"
   },
   {
    "duration": 3,
    "start_time": "2021-11-16T10:56:49.038Z"
   },
   {
    "duration": 3,
    "start_time": "2021-11-16T10:56:49.174Z"
   },
   {
    "duration": 4,
    "start_time": "2021-11-16T10:56:49.414Z"
   },
   {
    "duration": 3,
    "start_time": "2021-11-16T10:56:49.680Z"
   },
   {
    "duration": 3,
    "start_time": "2021-11-16T10:56:50.370Z"
   },
   {
    "duration": 114,
    "start_time": "2021-11-16T10:59:34.518Z"
   },
   {
    "duration": 3,
    "start_time": "2021-11-16T11:01:41.201Z"
   },
   {
    "duration": 116,
    "start_time": "2021-11-16T11:01:48.754Z"
   },
   {
    "duration": 3,
    "start_time": "2021-11-16T11:02:16.685Z"
   },
   {
    "duration": 3,
    "start_time": "2021-11-16T11:02:19.479Z"
   },
   {
    "duration": 3,
    "start_time": "2021-11-16T11:02:47.067Z"
   },
   {
    "duration": 3,
    "start_time": "2021-11-16T11:02:49.353Z"
   },
   {
    "duration": 3,
    "start_time": "2021-11-16T11:03:07.835Z"
   },
   {
    "duration": 3,
    "start_time": "2021-11-16T11:03:07.953Z"
   },
   {
    "duration": 112,
    "start_time": "2021-11-16T11:07:52.072Z"
   },
   {
    "duration": 187,
    "start_time": "2021-11-16T11:09:23.468Z"
   },
   {
    "duration": 4,
    "start_time": "2021-11-16T11:10:01.455Z"
   },
   {
    "duration": 3,
    "start_time": "2021-11-16T11:10:05.069Z"
   },
   {
    "duration": 4,
    "start_time": "2021-11-16T11:10:13.376Z"
   },
   {
    "duration": 3,
    "start_time": "2021-11-16T11:10:14.434Z"
   },
   {
    "duration": 3,
    "start_time": "2021-11-16T11:10:22.853Z"
   },
   {
    "duration": 4,
    "start_time": "2021-11-16T11:27:29.279Z"
   },
   {
    "duration": 4,
    "start_time": "2021-11-16T11:29:08.919Z"
   },
   {
    "duration": 118,
    "start_time": "2021-11-16T11:29:46.703Z"
   },
   {
    "duration": 437,
    "start_time": "2021-11-16T11:36:02.181Z"
   },
   {
    "duration": 157,
    "start_time": "2021-11-16T11:36:14.388Z"
   },
   {
    "duration": 207,
    "start_time": "2021-11-16T11:47:15.898Z"
   },
   {
    "duration": 3,
    "start_time": "2021-11-16T11:53:52.092Z"
   },
   {
    "duration": 3,
    "start_time": "2021-11-16T11:53:52.236Z"
   },
   {
    "duration": 3,
    "start_time": "2021-11-16T11:59:12.005Z"
   },
   {
    "duration": 112,
    "start_time": "2021-11-16T12:00:33.446Z"
   },
   {
    "duration": 3,
    "start_time": "2021-11-16T12:02:14.453Z"
   },
   {
    "duration": 3,
    "start_time": "2021-11-16T12:02:39.512Z"
   },
   {
    "duration": 106,
    "start_time": "2021-11-16T12:03:03.460Z"
   },
   {
    "duration": 3,
    "start_time": "2021-11-17T20:37:21.139Z"
   },
   {
    "duration": 3,
    "start_time": "2021-11-17T20:37:22.229Z"
   },
   {
    "duration": 3,
    "start_time": "2021-11-17T20:38:38.806Z"
   },
   {
    "duration": 3,
    "start_time": "2021-11-17T20:38:41.958Z"
   },
   {
    "duration": 3,
    "start_time": "2021-11-17T20:43:46.551Z"
   },
   {
    "duration": 4,
    "start_time": "2021-11-17T20:58:21.835Z"
   },
   {
    "duration": 3,
    "start_time": "2021-11-17T20:59:21.872Z"
   },
   {
    "duration": 4,
    "start_time": "2021-11-17T20:59:45.352Z"
   },
   {
    "duration": 4,
    "start_time": "2021-11-17T20:59:49.646Z"
   },
   {
    "duration": 159,
    "start_time": "2021-11-17T21:02:26.949Z"
   },
   {
    "duration": 3,
    "start_time": "2021-11-17T21:03:53.461Z"
   },
   {
    "duration": 3,
    "start_time": "2021-11-17T21:03:53.694Z"
   },
   {
    "duration": 3,
    "start_time": "2021-11-17T21:05:28.145Z"
   },
   {
    "duration": 116,
    "start_time": "2021-11-17T21:05:57.787Z"
   },
   {
    "duration": 3,
    "start_time": "2021-11-17T21:06:37.993Z"
   },
   {
    "duration": 3,
    "start_time": "2021-11-17T21:06:38.261Z"
   },
   {
    "duration": 3,
    "start_time": "2021-11-17T21:11:54.358Z"
   },
   {
    "duration": 3,
    "start_time": "2021-11-17T21:12:43.846Z"
   },
   {
    "duration": 4,
    "start_time": "2021-11-17T21:13:08.773Z"
   },
   {
    "duration": 3,
    "start_time": "2021-11-17T21:14:44.441Z"
   },
   {
    "duration": 3,
    "start_time": "2021-11-17T21:15:42.059Z"
   },
   {
    "duration": 4,
    "start_time": "2021-11-17T21:15:51.995Z"
   },
   {
    "duration": 3,
    "start_time": "2021-11-17T21:15:53.923Z"
   },
   {
    "duration": 3,
    "start_time": "2021-11-17T21:15:55.282Z"
   },
   {
    "duration": 3,
    "start_time": "2021-11-17T21:16:28.492Z"
   },
   {
    "duration": 3,
    "start_time": "2021-11-17T21:16:32.603Z"
   },
   {
    "duration": 3,
    "start_time": "2021-11-17T21:17:06.941Z"
   },
   {
    "duration": 98,
    "start_time": "2021-11-17T21:18:05.733Z"
   },
   {
    "duration": 4,
    "start_time": "2021-11-17T21:21:35.255Z"
   },
   {
    "duration": 3,
    "start_time": "2021-11-17T21:21:37.804Z"
   },
   {
    "duration": 4,
    "start_time": "2021-11-17T21:23:06.071Z"
   },
   {
    "duration": 3,
    "start_time": "2021-11-17T21:23:24.799Z"
   },
   {
    "duration": 3,
    "start_time": "2021-11-17T21:23:32.591Z"
   },
   {
    "duration": 98,
    "start_time": "2021-11-17T21:28:31.559Z"
   },
   {
    "duration": 3,
    "start_time": "2021-11-17T21:28:45.448Z"
   },
   {
    "duration": 3,
    "start_time": "2021-11-17T21:29:17.303Z"
   },
   {
    "duration": 3,
    "start_time": "2021-11-17T21:29:29.617Z"
   },
   {
    "duration": 3,
    "start_time": "2021-11-17T21:29:32.681Z"
   },
   {
    "duration": 3,
    "start_time": "2021-11-17T21:36:11.474Z"
   },
   {
    "duration": 3,
    "start_time": "2021-11-17T21:36:14.791Z"
   },
   {
    "duration": 3,
    "start_time": "2021-11-17T21:36:53.943Z"
   },
   {
    "duration": 3,
    "start_time": "2021-11-17T21:36:56.165Z"
   },
   {
    "duration": 4,
    "start_time": "2021-11-17T21:37:16.590Z"
   },
   {
    "duration": 3,
    "start_time": "2021-11-17T21:37:22.702Z"
   },
   {
    "duration": 4,
    "start_time": "2021-11-17T21:38:03.479Z"
   },
   {
    "duration": 3,
    "start_time": "2021-11-17T21:38:08.601Z"
   },
   {
    "duration": 3,
    "start_time": "2021-11-17T21:38:12.928Z"
   },
   {
    "duration": 3,
    "start_time": "2021-11-17T21:38:48.896Z"
   },
   {
    "duration": 2,
    "start_time": "2021-11-17T21:38:49.171Z"
   },
   {
    "duration": 4,
    "start_time": "2021-11-17T21:39:57.889Z"
   },
   {
    "duration": 3,
    "start_time": "2021-11-17T21:39:58.057Z"
   },
   {
    "duration": 3,
    "start_time": "2021-11-17T21:41:20.108Z"
   },
   {
    "duration": 3,
    "start_time": "2021-11-17T21:41:20.629Z"
   },
   {
    "duration": 3,
    "start_time": "2021-11-17T21:42:49.136Z"
   },
   {
    "duration": 3,
    "start_time": "2021-11-17T21:43:15.137Z"
   },
   {
    "duration": 4,
    "start_time": "2021-11-17T21:43:16.766Z"
   },
   {
    "duration": 4,
    "start_time": "2021-11-17T21:43:31.711Z"
   },
   {
    "duration": 3,
    "start_time": "2021-11-17T21:43:36.312Z"
   },
   {
    "duration": 4,
    "start_time": "2021-11-17T21:45:08.825Z"
   },
   {
    "duration": 4,
    "start_time": "2021-11-17T21:45:10.119Z"
   },
   {
    "duration": 4,
    "start_time": "2021-11-17T21:45:13.748Z"
   },
   {
    "duration": 3,
    "start_time": "2021-11-17T21:45:22.219Z"
   },
   {
    "duration": 3,
    "start_time": "2021-11-17T21:45:33.412Z"
   },
   {
    "duration": 2,
    "start_time": "2021-11-17T21:46:01.885Z"
   },
   {
    "duration": 3,
    "start_time": "2021-11-17T21:46:03.628Z"
   },
   {
    "duration": 107,
    "start_time": "2021-11-17T21:47:32.512Z"
   },
   {
    "duration": 103,
    "start_time": "2021-11-17T21:50:36.243Z"
   },
   {
    "duration": 3,
    "start_time": "2021-11-18T06:28:31.440Z"
   },
   {
    "duration": 3,
    "start_time": "2021-11-18T06:29:00.168Z"
   },
   {
    "duration": 3,
    "start_time": "2021-11-18T06:31:27.008Z"
   },
   {
    "duration": 2,
    "start_time": "2021-11-18T06:35:34.288Z"
   },
   {
    "duration": 2,
    "start_time": "2021-11-18T06:38:04.527Z"
   }
  ],
  "colab": {
   "provenance": []
  },
  "kernelspec": {
   "display_name": "Python 3 (ipykernel)",
   "language": "python",
   "name": "python3"
  },
  "language_info": {
   "codemirror_mode": {
    "name": "ipython",
    "version": 3
   },
   "file_extension": ".py",
   "mimetype": "text/x-python",
   "name": "python",
   "nbconvert_exporter": "python",
   "pygments_lexer": "ipython3",
   "version": "3.11.5"
  },
  "toc": {
   "base_numbering": 1,
   "nav_menu": {
    "height": "253px",
    "width": "220px"
   },
   "number_sections": true,
   "sideBar": true,
   "skip_h1_title": false,
   "title_cell": "Table of Contents",
   "title_sidebar": "Contents",
   "toc_cell": false,
   "toc_position": {
    "height": "calc(100% - 180px)",
    "left": "10px",
    "top": "150px",
    "width": "368px"
   },
   "toc_section_display": true,
   "toc_window_display": false
  }
 },
 "nbformat": 4,
 "nbformat_minor": 1
}
